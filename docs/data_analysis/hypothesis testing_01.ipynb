{
 "cells": [
  {
   "cell_type": "markdown",
   "id": "14741215-67af-43cc-bd63-1b8777412a2e",
   "metadata": {},
   "source": [
    "# 알츠하이머 예측하기 \n",
    "## 데이터 출처\n",
    "- 알츠하이머 데이터\n",
    "- https://www.kaggle.com/datasets/rabieelkharoua/alzheimers-disease-dataset"
   ]
  },
  {
   "cell_type": "markdown",
   "id": "f5605079-4371-43f6-935d-d89a7050637e",
   "metadata": {},
   "source": [
    "# 데이터 확인\n",
    "## 1. 인적 정보\n",
    "|column 명|설명|value|column 명|설명|value|\n",
    "|--|--|--|--|--|--|\n",
    "|PatientID|식별 번호|471-6900|Age|나이|60-90|\n",
    "|Gender|성별|0:남자, 1 : 여자|Ethnicity|인종|0:백인, 1 : 아프리카계 미국인, 2 : 아시아, 3 : 기타|\n",
    "|EducationLevel|교육 수준|0 : 없음, 1 : 고등학교, 2 : 학사, 3 : 더 높음|\n",
    "\n",
    "## 2. lifestype\n",
    "|column 명|설명|value|column 명|설명|value|\n",
    "|--|--|--|--|--|--|\n",
    "|Smoking|흡연 유/무|0 : 아니오, 1 : 예|AlcoholConsumption|주당 알코올 소비량|0-20|\n",
    "|PhysicalActivity|주간 신체 활동량|0-10|DietQuality|식단 품질|0-10|\n",
    "|SleepQuality|수면의 질|4-10|\n",
    "\n",
    "## 3. 병력\n",
    "|column 명|설명|value|column 명|설명|value|\n",
    "|--|--|--|--|--|--|\n",
    "|FamilyHistoryAlzheimers|알츠하이머 가족력|0 : 없음, 1 : 예|CardiovascularDisease|심혈관 질환 유무|0 : 없음, 1 : 예|\n",
    "|Diabetes|당뇨병 유무|0 : 없음, 1 : 예|Depression|우울증 유무|0 : 없음, 1 : 예|\n",
    "|HeadInjury|두부 손상 유무|0 : 없음, 1 : 예|Hypertension|고혈압 유무|0 : 없음, 1 : 예|\n",
    "\n",
    "## 4. 임상 측정\n",
    "|column 명|설명|value|column 명|설명|value|\n",
    "|--|--|--|--|--|--|\n",
    "|SystolicBP|수축기 혈압|90-180|DiastolicBP|이완기 혈압|60-120|\n",
    "|CholesterolTotal|콜레스테롤 총량|150-300|CholesterolLDL|LDL콜레스테롤 수치|50-200|\n",
    "|CholesterolHDL|HDL콜레스테롤 수치|20-100|CholesterolTriglycerides|중성지방|50-400|\n",
    "|BMI|신체질량지수|15-40|\n",
    "\n",
    "## 5. 인지 및 기능 평가\n",
    "|column 명|설명|value|column 명|설명|value|\n",
    "|--|--|--|--|--|--|\n",
    "|MMSE|간이 정신 상태 검사 점수|0-30, 낮을수록 인지 장애가 있음|FunctionalAssessment|기능평가|0-10, 낮을수록 기능 장애가 심함|\n",
    "|MemoryComplaints|기억 장애 유무|0 : 없음, 1 : 예|BehavioralProblems|행동 문제 유무|0 : 없음, 1 : 예|\n",
    "|ADL|일상생활활동 점수|0-10, 낮을수록 장애가 심함|\n",
    "\n",
    "## 6. 증상\n",
    "|column 명|설명|value|column 명|설명|value|\n",
    "|--|--|--|--|--|--|\n",
    "|Confusion|혼란의 유무|0 : 없음, 1 : 예|Disorientation|방향 감각 상실 유무|0 : 없음, 1 : 예|\n",
    "|PersonalityChanges|성격 변화 유무|0 : 없음, 1 : 예|DifficultyCompletingTasks|작업 완료 어려움 유무|0 : 없음, 1 : 예|\n",
    "|Forgetfulness|건망증 유무|0 : 없음, 1 : 예|\n",
    "\n",
    "## 7. 진단\n",
    "|column 명|설명|value|column 명|설명|value|\n",
    "|--|--|--|--|--|--|\n",
    "|Diagnosis|알츠하이머 유무|0 : 없음, 1 : 예|DoctorInCharge|담당 의사에 대한 정보|'XXXConfid'|"
   ]
  },
  {
   "cell_type": "code",
   "execution_count": 1,
   "id": "04fb5240-33ee-42a2-918b-0faabf528be8",
   "metadata": {},
   "outputs": [
    {
     "name": "stdout",
     "output_type": "stream",
     "text": [
      "Requirement already satisfied: statsmodels in /usr/local/lib/python3.11/site-packages (0.14.2)\n",
      "Requirement already satisfied: numpy>=1.22.3 in /usr/local/lib/python3.11/site-packages (from statsmodels) (1.26.4)\n",
      "Requirement already satisfied: scipy!=1.9.2,>=1.8 in /usr/local/lib/python3.11/site-packages (from statsmodels) (1.13.0)\n",
      "Requirement already satisfied: pandas!=2.1.0,>=1.4 in /usr/local/lib/python3.11/site-packages (from statsmodels) (2.2.1)\n",
      "Requirement already satisfied: patsy>=0.5.6 in /usr/local/lib/python3.11/site-packages (from statsmodels) (0.5.6)\n",
      "Requirement already satisfied: packaging>=21.3 in /usr/local/lib/python3.11/site-packages (from statsmodels) (24.0)\n",
      "Requirement already satisfied: python-dateutil>=2.8.2 in /usr/local/lib/python3.11/site-packages (from pandas!=2.1.0,>=1.4->statsmodels) (2.9.0.post0)\n",
      "Requirement already satisfied: pytz>=2020.1 in /usr/local/lib/python3.11/site-packages (from pandas!=2.1.0,>=1.4->statsmodels) (2024.1)\n",
      "Requirement already satisfied: tzdata>=2022.7 in /usr/local/lib/python3.11/site-packages (from pandas!=2.1.0,>=1.4->statsmodels) (2024.1)\n",
      "Requirement already satisfied: six in /usr/local/lib/python3.11/site-packages (from patsy>=0.5.6->statsmodels) (1.16.0)\n",
      "\u001b[33mWARNING: Running pip as the 'root' user can result in broken permissions and conflicting behaviour with the system package manager. It is recommended to use a virtual environment instead: https://pip.pypa.io/warnings/venv\u001b[0m\u001b[33m\n",
      "\u001b[0m\n",
      "\u001b[1m[\u001b[0m\u001b[34;49mnotice\u001b[0m\u001b[1;39;49m]\u001b[0m\u001b[39;49m A new release of pip is available: \u001b[0m\u001b[31;49m24.0\u001b[0m\u001b[39;49m -> \u001b[0m\u001b[32;49m24.1.1\u001b[0m\n",
      "\u001b[1m[\u001b[0m\u001b[34;49mnotice\u001b[0m\u001b[1;39;49m]\u001b[0m\u001b[39;49m To update, run: \u001b[0m\u001b[32;49mpip install --upgrade pip\u001b[0m\n",
      "Note: you may need to restart the kernel to use updated packages.\n"
     ]
    }
   ],
   "source": [
    "pip install statsmodels"
   ]
  },
  {
   "cell_type": "code",
   "execution_count": 108,
   "id": "6b8891f2-a792-43b1-b0ef-23b388f14f56",
   "metadata": {},
   "outputs": [
    {
     "data": {
      "text/html": [
       "<div>\n",
       "<style scoped>\n",
       "    .dataframe tbody tr th:only-of-type {\n",
       "        vertical-align: middle;\n",
       "    }\n",
       "\n",
       "    .dataframe tbody tr th {\n",
       "        vertical-align: top;\n",
       "    }\n",
       "\n",
       "    .dataframe thead th {\n",
       "        text-align: right;\n",
       "    }\n",
       "</style>\n",
       "<table border=\"1\" class=\"dataframe\">\n",
       "  <thead>\n",
       "    <tr style=\"text-align: right;\">\n",
       "      <th></th>\n",
       "      <th>PatientID</th>\n",
       "      <th>Age</th>\n",
       "      <th>Gender</th>\n",
       "      <th>Ethnicity</th>\n",
       "      <th>EducationLevel</th>\n",
       "      <th>BMI</th>\n",
       "      <th>Smoking</th>\n",
       "      <th>AlcoholConsumption</th>\n",
       "      <th>PhysicalActivity</th>\n",
       "      <th>DietQuality</th>\n",
       "      <th>...</th>\n",
       "      <th>MemoryComplaints</th>\n",
       "      <th>BehavioralProblems</th>\n",
       "      <th>ADL</th>\n",
       "      <th>Confusion</th>\n",
       "      <th>Disorientation</th>\n",
       "      <th>PersonalityChanges</th>\n",
       "      <th>DifficultyCompletingTasks</th>\n",
       "      <th>Forgetfulness</th>\n",
       "      <th>Diagnosis</th>\n",
       "      <th>DoctorInCharge</th>\n",
       "    </tr>\n",
       "  </thead>\n",
       "  <tbody>\n",
       "    <tr>\n",
       "      <th>0</th>\n",
       "      <td>4751</td>\n",
       "      <td>73</td>\n",
       "      <td>0</td>\n",
       "      <td>0</td>\n",
       "      <td>2</td>\n",
       "      <td>22.927749</td>\n",
       "      <td>0</td>\n",
       "      <td>13.297218</td>\n",
       "      <td>6.327112</td>\n",
       "      <td>1.347214</td>\n",
       "      <td>...</td>\n",
       "      <td>0</td>\n",
       "      <td>0</td>\n",
       "      <td>1.725883</td>\n",
       "      <td>0</td>\n",
       "      <td>0</td>\n",
       "      <td>0</td>\n",
       "      <td>1</td>\n",
       "      <td>0</td>\n",
       "      <td>0</td>\n",
       "      <td>XXXConfid</td>\n",
       "    </tr>\n",
       "    <tr>\n",
       "      <th>1</th>\n",
       "      <td>4752</td>\n",
       "      <td>89</td>\n",
       "      <td>0</td>\n",
       "      <td>0</td>\n",
       "      <td>0</td>\n",
       "      <td>26.827681</td>\n",
       "      <td>0</td>\n",
       "      <td>4.542524</td>\n",
       "      <td>7.619885</td>\n",
       "      <td>0.518767</td>\n",
       "      <td>...</td>\n",
       "      <td>0</td>\n",
       "      <td>0</td>\n",
       "      <td>2.592424</td>\n",
       "      <td>0</td>\n",
       "      <td>0</td>\n",
       "      <td>0</td>\n",
       "      <td>0</td>\n",
       "      <td>1</td>\n",
       "      <td>0</td>\n",
       "      <td>XXXConfid</td>\n",
       "    </tr>\n",
       "    <tr>\n",
       "      <th>2</th>\n",
       "      <td>4753</td>\n",
       "      <td>73</td>\n",
       "      <td>0</td>\n",
       "      <td>3</td>\n",
       "      <td>1</td>\n",
       "      <td>17.795882</td>\n",
       "      <td>0</td>\n",
       "      <td>19.555085</td>\n",
       "      <td>7.844988</td>\n",
       "      <td>1.826335</td>\n",
       "      <td>...</td>\n",
       "      <td>0</td>\n",
       "      <td>0</td>\n",
       "      <td>7.119548</td>\n",
       "      <td>0</td>\n",
       "      <td>1</td>\n",
       "      <td>0</td>\n",
       "      <td>1</td>\n",
       "      <td>0</td>\n",
       "      <td>0</td>\n",
       "      <td>XXXConfid</td>\n",
       "    </tr>\n",
       "    <tr>\n",
       "      <th>3</th>\n",
       "      <td>4754</td>\n",
       "      <td>74</td>\n",
       "      <td>1</td>\n",
       "      <td>0</td>\n",
       "      <td>1</td>\n",
       "      <td>33.800817</td>\n",
       "      <td>1</td>\n",
       "      <td>12.209266</td>\n",
       "      <td>8.428001</td>\n",
       "      <td>7.435604</td>\n",
       "      <td>...</td>\n",
       "      <td>0</td>\n",
       "      <td>1</td>\n",
       "      <td>6.481226</td>\n",
       "      <td>0</td>\n",
       "      <td>0</td>\n",
       "      <td>0</td>\n",
       "      <td>0</td>\n",
       "      <td>0</td>\n",
       "      <td>0</td>\n",
       "      <td>XXXConfid</td>\n",
       "    </tr>\n",
       "    <tr>\n",
       "      <th>4</th>\n",
       "      <td>4755</td>\n",
       "      <td>89</td>\n",
       "      <td>0</td>\n",
       "      <td>0</td>\n",
       "      <td>0</td>\n",
       "      <td>20.716974</td>\n",
       "      <td>0</td>\n",
       "      <td>18.454356</td>\n",
       "      <td>6.310461</td>\n",
       "      <td>0.795498</td>\n",
       "      <td>...</td>\n",
       "      <td>0</td>\n",
       "      <td>0</td>\n",
       "      <td>0.014691</td>\n",
       "      <td>0</td>\n",
       "      <td>0</td>\n",
       "      <td>1</td>\n",
       "      <td>1</td>\n",
       "      <td>0</td>\n",
       "      <td>0</td>\n",
       "      <td>XXXConfid</td>\n",
       "    </tr>\n",
       "    <tr>\n",
       "      <th>...</th>\n",
       "      <td>...</td>\n",
       "      <td>...</td>\n",
       "      <td>...</td>\n",
       "      <td>...</td>\n",
       "      <td>...</td>\n",
       "      <td>...</td>\n",
       "      <td>...</td>\n",
       "      <td>...</td>\n",
       "      <td>...</td>\n",
       "      <td>...</td>\n",
       "      <td>...</td>\n",
       "      <td>...</td>\n",
       "      <td>...</td>\n",
       "      <td>...</td>\n",
       "      <td>...</td>\n",
       "      <td>...</td>\n",
       "      <td>...</td>\n",
       "      <td>...</td>\n",
       "      <td>...</td>\n",
       "      <td>...</td>\n",
       "      <td>...</td>\n",
       "    </tr>\n",
       "    <tr>\n",
       "      <th>2144</th>\n",
       "      <td>6895</td>\n",
       "      <td>61</td>\n",
       "      <td>0</td>\n",
       "      <td>0</td>\n",
       "      <td>1</td>\n",
       "      <td>39.121757</td>\n",
       "      <td>0</td>\n",
       "      <td>1.561126</td>\n",
       "      <td>4.049964</td>\n",
       "      <td>6.555306</td>\n",
       "      <td>...</td>\n",
       "      <td>0</td>\n",
       "      <td>0</td>\n",
       "      <td>4.492838</td>\n",
       "      <td>1</td>\n",
       "      <td>0</td>\n",
       "      <td>0</td>\n",
       "      <td>0</td>\n",
       "      <td>0</td>\n",
       "      <td>1</td>\n",
       "      <td>XXXConfid</td>\n",
       "    </tr>\n",
       "    <tr>\n",
       "      <th>2145</th>\n",
       "      <td>6896</td>\n",
       "      <td>75</td>\n",
       "      <td>0</td>\n",
       "      <td>0</td>\n",
       "      <td>2</td>\n",
       "      <td>17.857903</td>\n",
       "      <td>0</td>\n",
       "      <td>18.767261</td>\n",
       "      <td>1.360667</td>\n",
       "      <td>2.904662</td>\n",
       "      <td>...</td>\n",
       "      <td>0</td>\n",
       "      <td>1</td>\n",
       "      <td>9.204952</td>\n",
       "      <td>0</td>\n",
       "      <td>0</td>\n",
       "      <td>0</td>\n",
       "      <td>0</td>\n",
       "      <td>0</td>\n",
       "      <td>1</td>\n",
       "      <td>XXXConfid</td>\n",
       "    </tr>\n",
       "    <tr>\n",
       "      <th>2146</th>\n",
       "      <td>6897</td>\n",
       "      <td>77</td>\n",
       "      <td>0</td>\n",
       "      <td>0</td>\n",
       "      <td>1</td>\n",
       "      <td>15.476479</td>\n",
       "      <td>0</td>\n",
       "      <td>4.594670</td>\n",
       "      <td>9.886002</td>\n",
       "      <td>8.120025</td>\n",
       "      <td>...</td>\n",
       "      <td>0</td>\n",
       "      <td>0</td>\n",
       "      <td>5.036334</td>\n",
       "      <td>0</td>\n",
       "      <td>0</td>\n",
       "      <td>0</td>\n",
       "      <td>0</td>\n",
       "      <td>0</td>\n",
       "      <td>1</td>\n",
       "      <td>XXXConfid</td>\n",
       "    </tr>\n",
       "    <tr>\n",
       "      <th>2147</th>\n",
       "      <td>6898</td>\n",
       "      <td>78</td>\n",
       "      <td>1</td>\n",
       "      <td>3</td>\n",
       "      <td>1</td>\n",
       "      <td>15.299911</td>\n",
       "      <td>0</td>\n",
       "      <td>8.674505</td>\n",
       "      <td>6.354282</td>\n",
       "      <td>1.263427</td>\n",
       "      <td>...</td>\n",
       "      <td>0</td>\n",
       "      <td>0</td>\n",
       "      <td>3.785399</td>\n",
       "      <td>0</td>\n",
       "      <td>0</td>\n",
       "      <td>0</td>\n",
       "      <td>0</td>\n",
       "      <td>1</td>\n",
       "      <td>1</td>\n",
       "      <td>XXXConfid</td>\n",
       "    </tr>\n",
       "    <tr>\n",
       "      <th>2148</th>\n",
       "      <td>6899</td>\n",
       "      <td>72</td>\n",
       "      <td>0</td>\n",
       "      <td>0</td>\n",
       "      <td>2</td>\n",
       "      <td>33.289738</td>\n",
       "      <td>0</td>\n",
       "      <td>7.890703</td>\n",
       "      <td>6.570993</td>\n",
       "      <td>7.941404</td>\n",
       "      <td>...</td>\n",
       "      <td>0</td>\n",
       "      <td>1</td>\n",
       "      <td>8.327563</td>\n",
       "      <td>0</td>\n",
       "      <td>1</td>\n",
       "      <td>0</td>\n",
       "      <td>0</td>\n",
       "      <td>1</td>\n",
       "      <td>0</td>\n",
       "      <td>XXXConfid</td>\n",
       "    </tr>\n",
       "  </tbody>\n",
       "</table>\n",
       "<p>2149 rows × 35 columns</p>\n",
       "</div>"
      ],
      "text/plain": [
       "      PatientID  Age  Gender  Ethnicity  EducationLevel        BMI  Smoking  \\\n",
       "0          4751   73       0          0               2  22.927749        0   \n",
       "1          4752   89       0          0               0  26.827681        0   \n",
       "2          4753   73       0          3               1  17.795882        0   \n",
       "3          4754   74       1          0               1  33.800817        1   \n",
       "4          4755   89       0          0               0  20.716974        0   \n",
       "...         ...  ...     ...        ...             ...        ...      ...   \n",
       "2144       6895   61       0          0               1  39.121757        0   \n",
       "2145       6896   75       0          0               2  17.857903        0   \n",
       "2146       6897   77       0          0               1  15.476479        0   \n",
       "2147       6898   78       1          3               1  15.299911        0   \n",
       "2148       6899   72       0          0               2  33.289738        0   \n",
       "\n",
       "      AlcoholConsumption  PhysicalActivity  DietQuality  ...  \\\n",
       "0              13.297218          6.327112     1.347214  ...   \n",
       "1               4.542524          7.619885     0.518767  ...   \n",
       "2              19.555085          7.844988     1.826335  ...   \n",
       "3              12.209266          8.428001     7.435604  ...   \n",
       "4              18.454356          6.310461     0.795498  ...   \n",
       "...                  ...               ...          ...  ...   \n",
       "2144            1.561126          4.049964     6.555306  ...   \n",
       "2145           18.767261          1.360667     2.904662  ...   \n",
       "2146            4.594670          9.886002     8.120025  ...   \n",
       "2147            8.674505          6.354282     1.263427  ...   \n",
       "2148            7.890703          6.570993     7.941404  ...   \n",
       "\n",
       "      MemoryComplaints  BehavioralProblems       ADL  Confusion  \\\n",
       "0                    0                   0  1.725883          0   \n",
       "1                    0                   0  2.592424          0   \n",
       "2                    0                   0  7.119548          0   \n",
       "3                    0                   1  6.481226          0   \n",
       "4                    0                   0  0.014691          0   \n",
       "...                ...                 ...       ...        ...   \n",
       "2144                 0                   0  4.492838          1   \n",
       "2145                 0                   1  9.204952          0   \n",
       "2146                 0                   0  5.036334          0   \n",
       "2147                 0                   0  3.785399          0   \n",
       "2148                 0                   1  8.327563          0   \n",
       "\n",
       "      Disorientation  PersonalityChanges  DifficultyCompletingTasks  \\\n",
       "0                  0                   0                          1   \n",
       "1                  0                   0                          0   \n",
       "2                  1                   0                          1   \n",
       "3                  0                   0                          0   \n",
       "4                  0                   1                          1   \n",
       "...              ...                 ...                        ...   \n",
       "2144               0                   0                          0   \n",
       "2145               0                   0                          0   \n",
       "2146               0                   0                          0   \n",
       "2147               0                   0                          0   \n",
       "2148               1                   0                          0   \n",
       "\n",
       "      Forgetfulness  Diagnosis  DoctorInCharge  \n",
       "0                 0          0       XXXConfid  \n",
       "1                 1          0       XXXConfid  \n",
       "2                 0          0       XXXConfid  \n",
       "3                 0          0       XXXConfid  \n",
       "4                 0          0       XXXConfid  \n",
       "...             ...        ...             ...  \n",
       "2144              0          1       XXXConfid  \n",
       "2145              0          1       XXXConfid  \n",
       "2146              0          1       XXXConfid  \n",
       "2147              1          1       XXXConfid  \n",
       "2148              1          0       XXXConfid  \n",
       "\n",
       "[2149 rows x 35 columns]"
      ]
     },
     "execution_count": 108,
     "metadata": {},
     "output_type": "execute_result"
    }
   ],
   "source": [
    "import pandas as pd\n",
    "import numpy as np\n",
    "from scipy import stats \n",
    "from statsmodels.formula.api import logit \n",
    "from sklearn.metrics import accuracy_score,classification_report\n",
    "from sklearn.preprocessing import MinMaxScaler\n",
    "from sklearn.model_selection import train_test_split\n",
    "\n",
    "\n",
    "df = pd.read_csv('../data/alzheimers_disease_data.csv')\n",
    "df"
   ]
  },
  {
   "cell_type": "code",
   "execution_count": 109,
   "id": "a4f79858-696e-43d0-a809-fc2d0628d1d3",
   "metadata": {},
   "outputs": [
    {
     "data": {
      "text/html": [
       "<div>\n",
       "<style scoped>\n",
       "    .dataframe tbody tr th:only-of-type {\n",
       "        vertical-align: middle;\n",
       "    }\n",
       "\n",
       "    .dataframe tbody tr th {\n",
       "        vertical-align: top;\n",
       "    }\n",
       "\n",
       "    .dataframe thead th {\n",
       "        text-align: right;\n",
       "    }\n",
       "</style>\n",
       "<table border=\"1\" class=\"dataframe\">\n",
       "  <thead>\n",
       "    <tr style=\"text-align: right;\">\n",
       "      <th></th>\n",
       "      <th>count</th>\n",
       "      <th>mean</th>\n",
       "      <th>std</th>\n",
       "      <th>min</th>\n",
       "      <th>25%</th>\n",
       "      <th>50%</th>\n",
       "      <th>75%</th>\n",
       "      <th>max</th>\n",
       "    </tr>\n",
       "  </thead>\n",
       "  <tbody>\n",
       "    <tr>\n",
       "      <th>PatientID</th>\n",
       "      <td>2149.0</td>\n",
       "      <td>5825.000000</td>\n",
       "      <td>620.507185</td>\n",
       "      <td>4751.000000</td>\n",
       "      <td>5288.000000</td>\n",
       "      <td>5825.000000</td>\n",
       "      <td>6362.000000</td>\n",
       "      <td>6899.000000</td>\n",
       "    </tr>\n",
       "    <tr>\n",
       "      <th>Age</th>\n",
       "      <td>2149.0</td>\n",
       "      <td>74.908795</td>\n",
       "      <td>8.990221</td>\n",
       "      <td>60.000000</td>\n",
       "      <td>67.000000</td>\n",
       "      <td>75.000000</td>\n",
       "      <td>83.000000</td>\n",
       "      <td>90.000000</td>\n",
       "    </tr>\n",
       "    <tr>\n",
       "      <th>Gender</th>\n",
       "      <td>2149.0</td>\n",
       "      <td>0.506282</td>\n",
       "      <td>0.500077</td>\n",
       "      <td>0.000000</td>\n",
       "      <td>0.000000</td>\n",
       "      <td>1.000000</td>\n",
       "      <td>1.000000</td>\n",
       "      <td>1.000000</td>\n",
       "    </tr>\n",
       "    <tr>\n",
       "      <th>Ethnicity</th>\n",
       "      <td>2149.0</td>\n",
       "      <td>0.697534</td>\n",
       "      <td>0.996128</td>\n",
       "      <td>0.000000</td>\n",
       "      <td>0.000000</td>\n",
       "      <td>0.000000</td>\n",
       "      <td>1.000000</td>\n",
       "      <td>3.000000</td>\n",
       "    </tr>\n",
       "    <tr>\n",
       "      <th>EducationLevel</th>\n",
       "      <td>2149.0</td>\n",
       "      <td>1.286645</td>\n",
       "      <td>0.904527</td>\n",
       "      <td>0.000000</td>\n",
       "      <td>1.000000</td>\n",
       "      <td>1.000000</td>\n",
       "      <td>2.000000</td>\n",
       "      <td>3.000000</td>\n",
       "    </tr>\n",
       "    <tr>\n",
       "      <th>BMI</th>\n",
       "      <td>2149.0</td>\n",
       "      <td>27.655697</td>\n",
       "      <td>7.217438</td>\n",
       "      <td>15.008851</td>\n",
       "      <td>21.611408</td>\n",
       "      <td>27.823924</td>\n",
       "      <td>33.869778</td>\n",
       "      <td>39.992767</td>\n",
       "    </tr>\n",
       "    <tr>\n",
       "      <th>Smoking</th>\n",
       "      <td>2149.0</td>\n",
       "      <td>0.288506</td>\n",
       "      <td>0.453173</td>\n",
       "      <td>0.000000</td>\n",
       "      <td>0.000000</td>\n",
       "      <td>0.000000</td>\n",
       "      <td>1.000000</td>\n",
       "      <td>1.000000</td>\n",
       "    </tr>\n",
       "    <tr>\n",
       "      <th>AlcoholConsumption</th>\n",
       "      <td>2149.0</td>\n",
       "      <td>10.039442</td>\n",
       "      <td>5.757910</td>\n",
       "      <td>0.002003</td>\n",
       "      <td>5.139810</td>\n",
       "      <td>9.934412</td>\n",
       "      <td>15.157931</td>\n",
       "      <td>19.989293</td>\n",
       "    </tr>\n",
       "    <tr>\n",
       "      <th>PhysicalActivity</th>\n",
       "      <td>2149.0</td>\n",
       "      <td>4.920202</td>\n",
       "      <td>2.857191</td>\n",
       "      <td>0.003616</td>\n",
       "      <td>2.570626</td>\n",
       "      <td>4.766424</td>\n",
       "      <td>7.427899</td>\n",
       "      <td>9.987429</td>\n",
       "    </tr>\n",
       "    <tr>\n",
       "      <th>DietQuality</th>\n",
       "      <td>2149.0</td>\n",
       "      <td>4.993138</td>\n",
       "      <td>2.909055</td>\n",
       "      <td>0.009385</td>\n",
       "      <td>2.458455</td>\n",
       "      <td>5.076087</td>\n",
       "      <td>7.558625</td>\n",
       "      <td>9.998346</td>\n",
       "    </tr>\n",
       "    <tr>\n",
       "      <th>SleepQuality</th>\n",
       "      <td>2149.0</td>\n",
       "      <td>7.051081</td>\n",
       "      <td>1.763573</td>\n",
       "      <td>4.002629</td>\n",
       "      <td>5.482997</td>\n",
       "      <td>7.115646</td>\n",
       "      <td>8.562521</td>\n",
       "      <td>9.999840</td>\n",
       "    </tr>\n",
       "    <tr>\n",
       "      <th>FamilyHistoryAlzheimers</th>\n",
       "      <td>2149.0</td>\n",
       "      <td>0.252210</td>\n",
       "      <td>0.434382</td>\n",
       "      <td>0.000000</td>\n",
       "      <td>0.000000</td>\n",
       "      <td>0.000000</td>\n",
       "      <td>1.000000</td>\n",
       "      <td>1.000000</td>\n",
       "    </tr>\n",
       "    <tr>\n",
       "      <th>CardiovascularDisease</th>\n",
       "      <td>2149.0</td>\n",
       "      <td>0.144253</td>\n",
       "      <td>0.351428</td>\n",
       "      <td>0.000000</td>\n",
       "      <td>0.000000</td>\n",
       "      <td>0.000000</td>\n",
       "      <td>0.000000</td>\n",
       "      <td>1.000000</td>\n",
       "    </tr>\n",
       "    <tr>\n",
       "      <th>Diabetes</th>\n",
       "      <td>2149.0</td>\n",
       "      <td>0.150768</td>\n",
       "      <td>0.357906</td>\n",
       "      <td>0.000000</td>\n",
       "      <td>0.000000</td>\n",
       "      <td>0.000000</td>\n",
       "      <td>0.000000</td>\n",
       "      <td>1.000000</td>\n",
       "    </tr>\n",
       "    <tr>\n",
       "      <th>Depression</th>\n",
       "      <td>2149.0</td>\n",
       "      <td>0.200558</td>\n",
       "      <td>0.400511</td>\n",
       "      <td>0.000000</td>\n",
       "      <td>0.000000</td>\n",
       "      <td>0.000000</td>\n",
       "      <td>0.000000</td>\n",
       "      <td>1.000000</td>\n",
       "    </tr>\n",
       "    <tr>\n",
       "      <th>HeadInjury</th>\n",
       "      <td>2149.0</td>\n",
       "      <td>0.092601</td>\n",
       "      <td>0.289940</td>\n",
       "      <td>0.000000</td>\n",
       "      <td>0.000000</td>\n",
       "      <td>0.000000</td>\n",
       "      <td>0.000000</td>\n",
       "      <td>1.000000</td>\n",
       "    </tr>\n",
       "    <tr>\n",
       "      <th>Hypertension</th>\n",
       "      <td>2149.0</td>\n",
       "      <td>0.148906</td>\n",
       "      <td>0.356079</td>\n",
       "      <td>0.000000</td>\n",
       "      <td>0.000000</td>\n",
       "      <td>0.000000</td>\n",
       "      <td>0.000000</td>\n",
       "      <td>1.000000</td>\n",
       "    </tr>\n",
       "    <tr>\n",
       "      <th>SystolicBP</th>\n",
       "      <td>2149.0</td>\n",
       "      <td>134.264774</td>\n",
       "      <td>25.949352</td>\n",
       "      <td>90.000000</td>\n",
       "      <td>112.000000</td>\n",
       "      <td>134.000000</td>\n",
       "      <td>157.000000</td>\n",
       "      <td>179.000000</td>\n",
       "    </tr>\n",
       "    <tr>\n",
       "      <th>DiastolicBP</th>\n",
       "      <td>2149.0</td>\n",
       "      <td>89.847836</td>\n",
       "      <td>17.592496</td>\n",
       "      <td>60.000000</td>\n",
       "      <td>74.000000</td>\n",
       "      <td>91.000000</td>\n",
       "      <td>105.000000</td>\n",
       "      <td>119.000000</td>\n",
       "    </tr>\n",
       "    <tr>\n",
       "      <th>CholesterolTotal</th>\n",
       "      <td>2149.0</td>\n",
       "      <td>225.197519</td>\n",
       "      <td>42.542233</td>\n",
       "      <td>150.093316</td>\n",
       "      <td>190.252963</td>\n",
       "      <td>225.086430</td>\n",
       "      <td>262.031657</td>\n",
       "      <td>299.993352</td>\n",
       "    </tr>\n",
       "    <tr>\n",
       "      <th>CholesterolLDL</th>\n",
       "      <td>2149.0</td>\n",
       "      <td>124.335944</td>\n",
       "      <td>43.366584</td>\n",
       "      <td>50.230707</td>\n",
       "      <td>87.195798</td>\n",
       "      <td>123.342593</td>\n",
       "      <td>161.733733</td>\n",
       "      <td>199.965665</td>\n",
       "    </tr>\n",
       "    <tr>\n",
       "      <th>CholesterolHDL</th>\n",
       "      <td>2149.0</td>\n",
       "      <td>59.463533</td>\n",
       "      <td>23.139174</td>\n",
       "      <td>20.003434</td>\n",
       "      <td>39.095698</td>\n",
       "      <td>59.768237</td>\n",
       "      <td>78.939050</td>\n",
       "      <td>99.980324</td>\n",
       "    </tr>\n",
       "    <tr>\n",
       "      <th>CholesterolTriglycerides</th>\n",
       "      <td>2149.0</td>\n",
       "      <td>228.281496</td>\n",
       "      <td>101.986721</td>\n",
       "      <td>50.407194</td>\n",
       "      <td>137.583222</td>\n",
       "      <td>230.301983</td>\n",
       "      <td>314.839046</td>\n",
       "      <td>399.941862</td>\n",
       "    </tr>\n",
       "    <tr>\n",
       "      <th>MMSE</th>\n",
       "      <td>2149.0</td>\n",
       "      <td>14.755132</td>\n",
       "      <td>8.613151</td>\n",
       "      <td>0.005312</td>\n",
       "      <td>7.167602</td>\n",
       "      <td>14.441660</td>\n",
       "      <td>22.161028</td>\n",
       "      <td>29.991381</td>\n",
       "    </tr>\n",
       "    <tr>\n",
       "      <th>FunctionalAssessment</th>\n",
       "      <td>2149.0</td>\n",
       "      <td>5.080055</td>\n",
       "      <td>2.892743</td>\n",
       "      <td>0.000460</td>\n",
       "      <td>2.566281</td>\n",
       "      <td>5.094439</td>\n",
       "      <td>7.546981</td>\n",
       "      <td>9.996467</td>\n",
       "    </tr>\n",
       "    <tr>\n",
       "      <th>MemoryComplaints</th>\n",
       "      <td>2149.0</td>\n",
       "      <td>0.208004</td>\n",
       "      <td>0.405974</td>\n",
       "      <td>0.000000</td>\n",
       "      <td>0.000000</td>\n",
       "      <td>0.000000</td>\n",
       "      <td>0.000000</td>\n",
       "      <td>1.000000</td>\n",
       "    </tr>\n",
       "    <tr>\n",
       "      <th>BehavioralProblems</th>\n",
       "      <td>2149.0</td>\n",
       "      <td>0.156817</td>\n",
       "      <td>0.363713</td>\n",
       "      <td>0.000000</td>\n",
       "      <td>0.000000</td>\n",
       "      <td>0.000000</td>\n",
       "      <td>0.000000</td>\n",
       "      <td>1.000000</td>\n",
       "    </tr>\n",
       "    <tr>\n",
       "      <th>ADL</th>\n",
       "      <td>2149.0</td>\n",
       "      <td>4.982958</td>\n",
       "      <td>2.949775</td>\n",
       "      <td>0.001288</td>\n",
       "      <td>2.342836</td>\n",
       "      <td>5.038973</td>\n",
       "      <td>7.581490</td>\n",
       "      <td>9.999747</td>\n",
       "    </tr>\n",
       "    <tr>\n",
       "      <th>Confusion</th>\n",
       "      <td>2149.0</td>\n",
       "      <td>0.205212</td>\n",
       "      <td>0.403950</td>\n",
       "      <td>0.000000</td>\n",
       "      <td>0.000000</td>\n",
       "      <td>0.000000</td>\n",
       "      <td>0.000000</td>\n",
       "      <td>1.000000</td>\n",
       "    </tr>\n",
       "    <tr>\n",
       "      <th>Disorientation</th>\n",
       "      <td>2149.0</td>\n",
       "      <td>0.158213</td>\n",
       "      <td>0.365026</td>\n",
       "      <td>0.000000</td>\n",
       "      <td>0.000000</td>\n",
       "      <td>0.000000</td>\n",
       "      <td>0.000000</td>\n",
       "      <td>1.000000</td>\n",
       "    </tr>\n",
       "    <tr>\n",
       "      <th>PersonalityChanges</th>\n",
       "      <td>2149.0</td>\n",
       "      <td>0.150768</td>\n",
       "      <td>0.357906</td>\n",
       "      <td>0.000000</td>\n",
       "      <td>0.000000</td>\n",
       "      <td>0.000000</td>\n",
       "      <td>0.000000</td>\n",
       "      <td>1.000000</td>\n",
       "    </tr>\n",
       "    <tr>\n",
       "      <th>DifficultyCompletingTasks</th>\n",
       "      <td>2149.0</td>\n",
       "      <td>0.158678</td>\n",
       "      <td>0.365461</td>\n",
       "      <td>0.000000</td>\n",
       "      <td>0.000000</td>\n",
       "      <td>0.000000</td>\n",
       "      <td>0.000000</td>\n",
       "      <td>1.000000</td>\n",
       "    </tr>\n",
       "    <tr>\n",
       "      <th>Forgetfulness</th>\n",
       "      <td>2149.0</td>\n",
       "      <td>0.301536</td>\n",
       "      <td>0.459032</td>\n",
       "      <td>0.000000</td>\n",
       "      <td>0.000000</td>\n",
       "      <td>0.000000</td>\n",
       "      <td>1.000000</td>\n",
       "      <td>1.000000</td>\n",
       "    </tr>\n",
       "    <tr>\n",
       "      <th>Diagnosis</th>\n",
       "      <td>2149.0</td>\n",
       "      <td>0.353653</td>\n",
       "      <td>0.478214</td>\n",
       "      <td>0.000000</td>\n",
       "      <td>0.000000</td>\n",
       "      <td>0.000000</td>\n",
       "      <td>1.000000</td>\n",
       "      <td>1.000000</td>\n",
       "    </tr>\n",
       "  </tbody>\n",
       "</table>\n",
       "</div>"
      ],
      "text/plain": [
       "                            count         mean         std          min  \\\n",
       "PatientID                  2149.0  5825.000000  620.507185  4751.000000   \n",
       "Age                        2149.0    74.908795    8.990221    60.000000   \n",
       "Gender                     2149.0     0.506282    0.500077     0.000000   \n",
       "Ethnicity                  2149.0     0.697534    0.996128     0.000000   \n",
       "EducationLevel             2149.0     1.286645    0.904527     0.000000   \n",
       "BMI                        2149.0    27.655697    7.217438    15.008851   \n",
       "Smoking                    2149.0     0.288506    0.453173     0.000000   \n",
       "AlcoholConsumption         2149.0    10.039442    5.757910     0.002003   \n",
       "PhysicalActivity           2149.0     4.920202    2.857191     0.003616   \n",
       "DietQuality                2149.0     4.993138    2.909055     0.009385   \n",
       "SleepQuality               2149.0     7.051081    1.763573     4.002629   \n",
       "FamilyHistoryAlzheimers    2149.0     0.252210    0.434382     0.000000   \n",
       "CardiovascularDisease      2149.0     0.144253    0.351428     0.000000   \n",
       "Diabetes                   2149.0     0.150768    0.357906     0.000000   \n",
       "Depression                 2149.0     0.200558    0.400511     0.000000   \n",
       "HeadInjury                 2149.0     0.092601    0.289940     0.000000   \n",
       "Hypertension               2149.0     0.148906    0.356079     0.000000   \n",
       "SystolicBP                 2149.0   134.264774   25.949352    90.000000   \n",
       "DiastolicBP                2149.0    89.847836   17.592496    60.000000   \n",
       "CholesterolTotal           2149.0   225.197519   42.542233   150.093316   \n",
       "CholesterolLDL             2149.0   124.335944   43.366584    50.230707   \n",
       "CholesterolHDL             2149.0    59.463533   23.139174    20.003434   \n",
       "CholesterolTriglycerides   2149.0   228.281496  101.986721    50.407194   \n",
       "MMSE                       2149.0    14.755132    8.613151     0.005312   \n",
       "FunctionalAssessment       2149.0     5.080055    2.892743     0.000460   \n",
       "MemoryComplaints           2149.0     0.208004    0.405974     0.000000   \n",
       "BehavioralProblems         2149.0     0.156817    0.363713     0.000000   \n",
       "ADL                        2149.0     4.982958    2.949775     0.001288   \n",
       "Confusion                  2149.0     0.205212    0.403950     0.000000   \n",
       "Disorientation             2149.0     0.158213    0.365026     0.000000   \n",
       "PersonalityChanges         2149.0     0.150768    0.357906     0.000000   \n",
       "DifficultyCompletingTasks  2149.0     0.158678    0.365461     0.000000   \n",
       "Forgetfulness              2149.0     0.301536    0.459032     0.000000   \n",
       "Diagnosis                  2149.0     0.353653    0.478214     0.000000   \n",
       "\n",
       "                                   25%          50%          75%          max  \n",
       "PatientID                  5288.000000  5825.000000  6362.000000  6899.000000  \n",
       "Age                          67.000000    75.000000    83.000000    90.000000  \n",
       "Gender                        0.000000     1.000000     1.000000     1.000000  \n",
       "Ethnicity                     0.000000     0.000000     1.000000     3.000000  \n",
       "EducationLevel                1.000000     1.000000     2.000000     3.000000  \n",
       "BMI                          21.611408    27.823924    33.869778    39.992767  \n",
       "Smoking                       0.000000     0.000000     1.000000     1.000000  \n",
       "AlcoholConsumption            5.139810     9.934412    15.157931    19.989293  \n",
       "PhysicalActivity              2.570626     4.766424     7.427899     9.987429  \n",
       "DietQuality                   2.458455     5.076087     7.558625     9.998346  \n",
       "SleepQuality                  5.482997     7.115646     8.562521     9.999840  \n",
       "FamilyHistoryAlzheimers       0.000000     0.000000     1.000000     1.000000  \n",
       "CardiovascularDisease         0.000000     0.000000     0.000000     1.000000  \n",
       "Diabetes                      0.000000     0.000000     0.000000     1.000000  \n",
       "Depression                    0.000000     0.000000     0.000000     1.000000  \n",
       "HeadInjury                    0.000000     0.000000     0.000000     1.000000  \n",
       "Hypertension                  0.000000     0.000000     0.000000     1.000000  \n",
       "SystolicBP                  112.000000   134.000000   157.000000   179.000000  \n",
       "DiastolicBP                  74.000000    91.000000   105.000000   119.000000  \n",
       "CholesterolTotal            190.252963   225.086430   262.031657   299.993352  \n",
       "CholesterolLDL               87.195798   123.342593   161.733733   199.965665  \n",
       "CholesterolHDL               39.095698    59.768237    78.939050    99.980324  \n",
       "CholesterolTriglycerides    137.583222   230.301983   314.839046   399.941862  \n",
       "MMSE                          7.167602    14.441660    22.161028    29.991381  \n",
       "FunctionalAssessment          2.566281     5.094439     7.546981     9.996467  \n",
       "MemoryComplaints              0.000000     0.000000     0.000000     1.000000  \n",
       "BehavioralProblems            0.000000     0.000000     0.000000     1.000000  \n",
       "ADL                           2.342836     5.038973     7.581490     9.999747  \n",
       "Confusion                     0.000000     0.000000     0.000000     1.000000  \n",
       "Disorientation                0.000000     0.000000     0.000000     1.000000  \n",
       "PersonalityChanges            0.000000     0.000000     0.000000     1.000000  \n",
       "DifficultyCompletingTasks     0.000000     0.000000     0.000000     1.000000  \n",
       "Forgetfulness                 0.000000     0.000000     1.000000     1.000000  \n",
       "Diagnosis                     0.000000     0.000000     1.000000     1.000000  "
      ]
     },
     "execution_count": 109,
     "metadata": {},
     "output_type": "execute_result"
    }
   ],
   "source": [
    "df.describe().T"
   ]
  },
  {
   "cell_type": "markdown",
   "id": "34b9bfab-2907-48f4-aa45-d30ac40d7c9a",
   "metadata": {},
   "source": [
    "# 데이터 전처리"
   ]
  },
  {
   "cell_type": "markdown",
   "id": "734e27aa-3883-42ee-8921-80b25c0b0961",
   "metadata": {},
   "source": [
    "## 결측치 확인 : 없음"
   ]
  },
  {
   "cell_type": "code",
   "execution_count": 110,
   "id": "81be75b2-cc5c-4e2a-8d90-d7829ad674a6",
   "metadata": {},
   "outputs": [
    {
     "data": {
      "text/plain": [
       "PatientID                    0\n",
       "Age                          0\n",
       "Gender                       0\n",
       "Ethnicity                    0\n",
       "EducationLevel               0\n",
       "BMI                          0\n",
       "Smoking                      0\n",
       "AlcoholConsumption           0\n",
       "PhysicalActivity             0\n",
       "DietQuality                  0\n",
       "SleepQuality                 0\n",
       "FamilyHistoryAlzheimers      0\n",
       "CardiovascularDisease        0\n",
       "Diabetes                     0\n",
       "Depression                   0\n",
       "HeadInjury                   0\n",
       "Hypertension                 0\n",
       "SystolicBP                   0\n",
       "DiastolicBP                  0\n",
       "CholesterolTotal             0\n",
       "CholesterolLDL               0\n",
       "CholesterolHDL               0\n",
       "CholesterolTriglycerides     0\n",
       "MMSE                         0\n",
       "FunctionalAssessment         0\n",
       "MemoryComplaints             0\n",
       "BehavioralProblems           0\n",
       "ADL                          0\n",
       "Confusion                    0\n",
       "Disorientation               0\n",
       "PersonalityChanges           0\n",
       "DifficultyCompletingTasks    0\n",
       "Forgetfulness                0\n",
       "Diagnosis                    0\n",
       "DoctorInCharge               0\n",
       "dtype: int64"
      ]
     },
     "execution_count": 110,
     "metadata": {},
     "output_type": "execute_result"
    }
   ],
   "source": [
    "df.isnull().sum()"
   ]
  },
  {
   "cell_type": "markdown",
   "id": "fa0126c0-be23-44a5-83ef-7dadfa6666de",
   "metadata": {},
   "source": [
    "## 필요없는 column 제거 : PatientID, DoctorInCharge"
   ]
  },
  {
   "cell_type": "code",
   "execution_count": 111,
   "id": "f0cc0a2b-001d-4274-b708-a40c2b402cf5",
   "metadata": {},
   "outputs": [],
   "source": [
    "df.drop(['PatientID','DoctorInCharge'],axis=1, inplace=True)"
   ]
  },
  {
   "cell_type": "markdown",
   "id": "f7e77807-8e16-4aff-b002-dee2dbd37f55",
   "metadata": {},
   "source": [
    "## 데이터 정규화"
   ]
  },
  {
   "cell_type": "code",
   "execution_count": 112,
   "id": "985cd3bc-a2c0-4019-963f-1c5c2f1dbe40",
   "metadata": {
    "scrolled": true
   },
   "outputs": [
    {
     "data": {
      "text/html": [
       "<div>\n",
       "<style scoped>\n",
       "    .dataframe tbody tr th:only-of-type {\n",
       "        vertical-align: middle;\n",
       "    }\n",
       "\n",
       "    .dataframe tbody tr th {\n",
       "        vertical-align: top;\n",
       "    }\n",
       "\n",
       "    .dataframe thead th {\n",
       "        text-align: right;\n",
       "    }\n",
       "</style>\n",
       "<table border=\"1\" class=\"dataframe\">\n",
       "  <thead>\n",
       "    <tr style=\"text-align: right;\">\n",
       "      <th></th>\n",
       "      <th>Age</th>\n",
       "      <th>Gender</th>\n",
       "      <th>Ethnicity</th>\n",
       "      <th>EducationLevel</th>\n",
       "      <th>BMI</th>\n",
       "      <th>Smoking</th>\n",
       "      <th>AlcoholConsumption</th>\n",
       "      <th>PhysicalActivity</th>\n",
       "      <th>DietQuality</th>\n",
       "      <th>SleepQuality</th>\n",
       "      <th>...</th>\n",
       "      <th>FunctionalAssessment</th>\n",
       "      <th>MemoryComplaints</th>\n",
       "      <th>BehavioralProblems</th>\n",
       "      <th>ADL</th>\n",
       "      <th>Confusion</th>\n",
       "      <th>Disorientation</th>\n",
       "      <th>PersonalityChanges</th>\n",
       "      <th>DifficultyCompletingTasks</th>\n",
       "      <th>Forgetfulness</th>\n",
       "      <th>Diagnosis</th>\n",
       "    </tr>\n",
       "  </thead>\n",
       "  <tbody>\n",
       "    <tr>\n",
       "      <th>count</th>\n",
       "      <td>2149.000000</td>\n",
       "      <td>2149.000000</td>\n",
       "      <td>2149.000000</td>\n",
       "      <td>2149.000000</td>\n",
       "      <td>2149.000000</td>\n",
       "      <td>2149.000000</td>\n",
       "      <td>2149.000000</td>\n",
       "      <td>2149.000000</td>\n",
       "      <td>2149.000000</td>\n",
       "      <td>2149.000000</td>\n",
       "      <td>...</td>\n",
       "      <td>2149.000000</td>\n",
       "      <td>2149.000000</td>\n",
       "      <td>2149.000000</td>\n",
       "      <td>2149.000000</td>\n",
       "      <td>2149.000000</td>\n",
       "      <td>2149.000000</td>\n",
       "      <td>2149.000000</td>\n",
       "      <td>2149.000000</td>\n",
       "      <td>2149.000000</td>\n",
       "      <td>2149.000000</td>\n",
       "    </tr>\n",
       "    <tr>\n",
       "      <th>mean</th>\n",
       "      <td>0.496960</td>\n",
       "      <td>0.506282</td>\n",
       "      <td>0.232511</td>\n",
       "      <td>0.428882</td>\n",
       "      <td>0.506199</td>\n",
       "      <td>0.288506</td>\n",
       "      <td>0.502191</td>\n",
       "      <td>0.492456</td>\n",
       "      <td>0.498926</td>\n",
       "      <td>0.508312</td>\n",
       "      <td>...</td>\n",
       "      <td>0.508162</td>\n",
       "      <td>0.208004</td>\n",
       "      <td>0.156817</td>\n",
       "      <td>0.498244</td>\n",
       "      <td>0.205212</td>\n",
       "      <td>0.158213</td>\n",
       "      <td>0.150768</td>\n",
       "      <td>0.158678</td>\n",
       "      <td>0.301536</td>\n",
       "      <td>0.353653</td>\n",
       "    </tr>\n",
       "    <tr>\n",
       "      <th>std</th>\n",
       "      <td>0.299674</td>\n",
       "      <td>0.500077</td>\n",
       "      <td>0.332043</td>\n",
       "      <td>0.301509</td>\n",
       "      <td>0.288883</td>\n",
       "      <td>0.453173</td>\n",
       "      <td>0.288079</td>\n",
       "      <td>0.286182</td>\n",
       "      <td>0.291227</td>\n",
       "      <td>0.294065</td>\n",
       "      <td>...</td>\n",
       "      <td>0.289390</td>\n",
       "      <td>0.405974</td>\n",
       "      <td>0.363713</td>\n",
       "      <td>0.295023</td>\n",
       "      <td>0.403950</td>\n",
       "      <td>0.365026</td>\n",
       "      <td>0.357906</td>\n",
       "      <td>0.365461</td>\n",
       "      <td>0.459032</td>\n",
       "      <td>0.478214</td>\n",
       "    </tr>\n",
       "    <tr>\n",
       "      <th>min</th>\n",
       "      <td>0.000000</td>\n",
       "      <td>0.000000</td>\n",
       "      <td>0.000000</td>\n",
       "      <td>0.000000</td>\n",
       "      <td>0.000000</td>\n",
       "      <td>0.000000</td>\n",
       "      <td>0.000000</td>\n",
       "      <td>0.000000</td>\n",
       "      <td>0.000000</td>\n",
       "      <td>0.000000</td>\n",
       "      <td>...</td>\n",
       "      <td>0.000000</td>\n",
       "      <td>0.000000</td>\n",
       "      <td>0.000000</td>\n",
       "      <td>0.000000</td>\n",
       "      <td>0.000000</td>\n",
       "      <td>0.000000</td>\n",
       "      <td>0.000000</td>\n",
       "      <td>0.000000</td>\n",
       "      <td>0.000000</td>\n",
       "      <td>0.000000</td>\n",
       "    </tr>\n",
       "    <tr>\n",
       "      <th>25%</th>\n",
       "      <td>0.233333</td>\n",
       "      <td>0.000000</td>\n",
       "      <td>0.000000</td>\n",
       "      <td>0.333333</td>\n",
       "      <td>0.264272</td>\n",
       "      <td>0.000000</td>\n",
       "      <td>0.257054</td>\n",
       "      <td>0.257117</td>\n",
       "      <td>0.245178</td>\n",
       "      <td>0.246843</td>\n",
       "      <td>...</td>\n",
       "      <td>0.256685</td>\n",
       "      <td>0.000000</td>\n",
       "      <td>0.000000</td>\n",
       "      <td>0.234191</td>\n",
       "      <td>0.000000</td>\n",
       "      <td>0.000000</td>\n",
       "      <td>0.000000</td>\n",
       "      <td>0.000000</td>\n",
       "      <td>0.000000</td>\n",
       "      <td>0.000000</td>\n",
       "    </tr>\n",
       "    <tr>\n",
       "      <th>50%</th>\n",
       "      <td>0.500000</td>\n",
       "      <td>1.000000</td>\n",
       "      <td>0.000000</td>\n",
       "      <td>0.333333</td>\n",
       "      <td>0.512933</td>\n",
       "      <td>0.000000</td>\n",
       "      <td>0.496936</td>\n",
       "      <td>0.477053</td>\n",
       "      <td>0.507230</td>\n",
       "      <td>0.519077</td>\n",
       "      <td>...</td>\n",
       "      <td>0.509601</td>\n",
       "      <td>0.000000</td>\n",
       "      <td>0.000000</td>\n",
       "      <td>0.503846</td>\n",
       "      <td>0.000000</td>\n",
       "      <td>0.000000</td>\n",
       "      <td>0.000000</td>\n",
       "      <td>0.000000</td>\n",
       "      <td>0.000000</td>\n",
       "      <td>0.000000</td>\n",
       "    </tr>\n",
       "    <tr>\n",
       "      <th>75%</th>\n",
       "      <td>0.766667</td>\n",
       "      <td>1.000000</td>\n",
       "      <td>0.333333</td>\n",
       "      <td>0.666667</td>\n",
       "      <td>0.754923</td>\n",
       "      <td>1.000000</td>\n",
       "      <td>0.758278</td>\n",
       "      <td>0.743632</td>\n",
       "      <td>0.755758</td>\n",
       "      <td>0.760335</td>\n",
       "      <td>...</td>\n",
       "      <td>0.754954</td>\n",
       "      <td>0.000000</td>\n",
       "      <td>0.000000</td>\n",
       "      <td>0.758137</td>\n",
       "      <td>0.000000</td>\n",
       "      <td>0.000000</td>\n",
       "      <td>0.000000</td>\n",
       "      <td>0.000000</td>\n",
       "      <td>1.000000</td>\n",
       "      <td>1.000000</td>\n",
       "    </tr>\n",
       "    <tr>\n",
       "      <th>max</th>\n",
       "      <td>1.000000</td>\n",
       "      <td>1.000000</td>\n",
       "      <td>1.000000</td>\n",
       "      <td>1.000000</td>\n",
       "      <td>1.000000</td>\n",
       "      <td>1.000000</td>\n",
       "      <td>1.000000</td>\n",
       "      <td>1.000000</td>\n",
       "      <td>1.000000</td>\n",
       "      <td>1.000000</td>\n",
       "      <td>...</td>\n",
       "      <td>1.000000</td>\n",
       "      <td>1.000000</td>\n",
       "      <td>1.000000</td>\n",
       "      <td>1.000000</td>\n",
       "      <td>1.000000</td>\n",
       "      <td>1.000000</td>\n",
       "      <td>1.000000</td>\n",
       "      <td>1.000000</td>\n",
       "      <td>1.000000</td>\n",
       "      <td>1.000000</td>\n",
       "    </tr>\n",
       "  </tbody>\n",
       "</table>\n",
       "<p>8 rows × 33 columns</p>\n",
       "</div>"
      ],
      "text/plain": [
       "               Age       Gender    Ethnicity  EducationLevel          BMI  \\\n",
       "count  2149.000000  2149.000000  2149.000000     2149.000000  2149.000000   \n",
       "mean      0.496960     0.506282     0.232511        0.428882     0.506199   \n",
       "std       0.299674     0.500077     0.332043        0.301509     0.288883   \n",
       "min       0.000000     0.000000     0.000000        0.000000     0.000000   \n",
       "25%       0.233333     0.000000     0.000000        0.333333     0.264272   \n",
       "50%       0.500000     1.000000     0.000000        0.333333     0.512933   \n",
       "75%       0.766667     1.000000     0.333333        0.666667     0.754923   \n",
       "max       1.000000     1.000000     1.000000        1.000000     1.000000   \n",
       "\n",
       "           Smoking  AlcoholConsumption  PhysicalActivity  DietQuality  \\\n",
       "count  2149.000000         2149.000000       2149.000000  2149.000000   \n",
       "mean      0.288506            0.502191          0.492456     0.498926   \n",
       "std       0.453173            0.288079          0.286182     0.291227   \n",
       "min       0.000000            0.000000          0.000000     0.000000   \n",
       "25%       0.000000            0.257054          0.257117     0.245178   \n",
       "50%       0.000000            0.496936          0.477053     0.507230   \n",
       "75%       1.000000            0.758278          0.743632     0.755758   \n",
       "max       1.000000            1.000000          1.000000     1.000000   \n",
       "\n",
       "       SleepQuality  ...  FunctionalAssessment  MemoryComplaints  \\\n",
       "count   2149.000000  ...           2149.000000       2149.000000   \n",
       "mean       0.508312  ...              0.508162          0.208004   \n",
       "std        0.294065  ...              0.289390          0.405974   \n",
       "min        0.000000  ...              0.000000          0.000000   \n",
       "25%        0.246843  ...              0.256685          0.000000   \n",
       "50%        0.519077  ...              0.509601          0.000000   \n",
       "75%        0.760335  ...              0.754954          0.000000   \n",
       "max        1.000000  ...              1.000000          1.000000   \n",
       "\n",
       "       BehavioralProblems          ADL    Confusion  Disorientation  \\\n",
       "count         2149.000000  2149.000000  2149.000000     2149.000000   \n",
       "mean             0.156817     0.498244     0.205212        0.158213   \n",
       "std              0.363713     0.295023     0.403950        0.365026   \n",
       "min              0.000000     0.000000     0.000000        0.000000   \n",
       "25%              0.000000     0.234191     0.000000        0.000000   \n",
       "50%              0.000000     0.503846     0.000000        0.000000   \n",
       "75%              0.000000     0.758137     0.000000        0.000000   \n",
       "max              1.000000     1.000000     1.000000        1.000000   \n",
       "\n",
       "       PersonalityChanges  DifficultyCompletingTasks  Forgetfulness  \\\n",
       "count         2149.000000                2149.000000    2149.000000   \n",
       "mean             0.150768                   0.158678       0.301536   \n",
       "std              0.357906                   0.365461       0.459032   \n",
       "min              0.000000                   0.000000       0.000000   \n",
       "25%              0.000000                   0.000000       0.000000   \n",
       "50%              0.000000                   0.000000       0.000000   \n",
       "75%              0.000000                   0.000000       1.000000   \n",
       "max              1.000000                   1.000000       1.000000   \n",
       "\n",
       "         Diagnosis  \n",
       "count  2149.000000  \n",
       "mean      0.353653  \n",
       "std       0.478214  \n",
       "min       0.000000  \n",
       "25%       0.000000  \n",
       "50%       0.000000  \n",
       "75%       1.000000  \n",
       "max       1.000000  \n",
       "\n",
       "[8 rows x 33 columns]"
      ]
     },
     "execution_count": 112,
     "metadata": {},
     "output_type": "execute_result"
    }
   ],
   "source": [
    "scaler = MinMaxScaler()\n",
    "for i in list['Age','BMI','AlcoholConsumption','PhysicalActivity','DietQuality','SleepQuality','SystolicBP','DiastolicBP','DiastolicBP','CholesterolTotal','CholesterolLDL','CholesterolHDL','CholesterolTriglycerides','MMSE','FunctionalAssessment','ADL']:\n",
    "    df[i] = scaler.fit_transform(df[i])\n",
    "df.describe()"
   ]
  },
  {
   "cell_type": "markdown",
   "id": "555eb66f-6f2f-4be7-83a4-273ce517bd91",
   "metadata": {},
   "source": [
    "# 가설 설정 "
   ]
  },
  {
   "cell_type": "markdown",
   "id": "8ef3a2c8-12ab-423b-bde7-d10cd1e2b6ae",
   "metadata": {
    "jp-MarkdownHeadingCollapsed": true
   },
   "source": [
    "## 1. 증상이 알츠하이머의 유/무에 영향을 미친다. \n",
    "- 방법 : 증상으로 알츠하이머의 유/무를 예측하는 로지스틱 회귀 모형을 만들어 각 독립변수들의 p-value를 통해 종속 변수에 영향을 미치는지 확인\n",
    "- 결과 : 로지스틱 회귀 모형의 정확성이 0.64로 높은 성능을 보이지 않고, 각 변수들 역시 종속 변수에 영향을 미치지 않음을 p-value를 통해 확인"
   ]
  },
  {
   "cell_type": "code",
   "execution_count": 113,
   "id": "9519ae1e-081a-4ca2-b518-75433398e208",
   "metadata": {},
   "outputs": [
    {
     "name": "stdout",
     "output_type": "stream",
     "text": [
      "Optimization terminated successfully.\n",
      "         Current function value: 0.648144\n",
      "         Iterations 5\n",
      "              precision    recall  f1-score   support\n",
      "\n",
      "         0.0       0.64      1.00      0.78       416\n",
      "         1.0       0.00      0.00      0.00       229\n",
      "\n",
      "    accuracy                           0.64       645\n",
      "   macro avg       0.32      0.50      0.39       645\n",
      "weighted avg       0.42      0.64      0.51       645\n",
      "\n"
     ]
    },
    {
     "name": "stderr",
     "output_type": "stream",
     "text": [
      "/usr/local/lib/python3.11/site-packages/sklearn/metrics/_classification.py:1509: UndefinedMetricWarning: Precision is ill-defined and being set to 0.0 in labels with no predicted samples. Use `zero_division` parameter to control this behavior.\n",
      "  _warn_prf(average, modifier, f\"{metric.capitalize()} is\", len(result))\n",
      "/usr/local/lib/python3.11/site-packages/sklearn/metrics/_classification.py:1509: UndefinedMetricWarning: Precision is ill-defined and being set to 0.0 in labels with no predicted samples. Use `zero_division` parameter to control this behavior.\n",
      "  _warn_prf(average, modifier, f\"{metric.capitalize()} is\", len(result))\n",
      "/usr/local/lib/python3.11/site-packages/sklearn/metrics/_classification.py:1509: UndefinedMetricWarning: Precision is ill-defined and being set to 0.0 in labels with no predicted samples. Use `zero_division` parameter to control this behavior.\n",
      "  _warn_prf(average, modifier, f\"{metric.capitalize()} is\", len(result))\n"
     ]
    }
   ],
   "source": [
    "from statsmodels.formula.api import logit \n",
    "from sklearn.metrics import accuracy_score\n",
    "from sklearn.model_selection import train_test_split\n",
    "df_symptom = df[['Confusion','Disorientation','PersonalityChanges','DifficultyCompletingTasks','Forgetfulness','Diagnosis']]\n",
    "train,test = train_test_split(df_symptom,test_size = 0.3, random_state = 23)\n",
    "model = logit('Diagnosis ~ Confusion + Disorientation + PersonalityChanges + DifficultyCompletingTasks + Forgetfulness',train).fit()\n",
    "pred = model.predict(test)\n",
    "pred_class = (pred > 0.5).astype(int)\n",
    "print(classification_report(test['Diagnosis'],pred_class))"
   ]
  },
  {
   "cell_type": "markdown",
   "id": "c2b5d9ea-cac8-4b32-8493-7204695b0786",
   "metadata": {},
   "source": [
    "### 불안"
   ]
  },
  {
   "cell_type": "code",
   "execution_count": 114,
   "id": "cfaf2d81-31d8-4a67-92f8-59263251058e",
   "metadata": {},
   "outputs": [
    {
     "name": "stdout",
     "output_type": "stream",
     "text": [
      "p-value :  0.875904727700817\n",
      "귀무가설, 종속 변수에 영향을 미치지 않음\n"
     ]
    }
   ],
   "source": [
    "\n",
    "if model.pvalues['Confusion'] >= 0.05:\n",
    "    print('p-value : ',model.pvalues['Confusion'])\n",
    "    print('귀무가설, 종속 변수에 영향을 미치지 않음')\n",
    "else:\n",
    "    print('회귀 계수 : ',model.params['Confusion'])\n",
    "    print('p-value : ',model.pvalues['Confusion'])\n",
    "    print('대립가설, 종속 변수에 영향을 미침')"
   ]
  },
  {
   "cell_type": "markdown",
   "id": "c760f5ff-e019-45bd-85a4-3703a98ef8f0",
   "metadata": {},
   "source": [
    "### 방향 감각 상실"
   ]
  },
  {
   "cell_type": "code",
   "execution_count": 115,
   "id": "941b92c7-4a7e-4ba3-8f3e-701351d0ccc0",
   "metadata": {},
   "outputs": [
    {
     "name": "stdout",
     "output_type": "stream",
     "text": [
      "p-value :  0.34566823922915324\n",
      "귀무가설, 종속 변수에 영향을 미치지 않음\n"
     ]
    }
   ],
   "source": [
    "if model.pvalues['Disorientation'] >= 0.05:\n",
    "    print('p-value : ',model.pvalues['Disorientation'])\n",
    "    print('귀무가설, 종속 변수에 영향을 미치지 않음')\n",
    "else:\n",
    "    print('회귀 계수 : ',model.params['Disorientation'])\n",
    "    print('p-value : ',model.pvalues['Disorientation'])\n",
    "    print('대립가설, 종속 변수에 영향을 미침')"
   ]
  },
  {
   "cell_type": "markdown",
   "id": "01172104-55c0-46ea-b41f-e8f8c9a77797",
   "metadata": {},
   "source": [
    "### 성격 변화"
   ]
  },
  {
   "cell_type": "code",
   "execution_count": 116,
   "id": "93922267-51af-4b18-861d-8da464c22287",
   "metadata": {},
   "outputs": [
    {
     "name": "stdout",
     "output_type": "stream",
     "text": [
      "p-value :  0.23377298755240006\n",
      "귀무가설, 종속 변수에 영향을 미치지 않음\n"
     ]
    }
   ],
   "source": [
    "if model.pvalues['PersonalityChanges'] >= 0.05:\n",
    "    print('p-value : ',model.pvalues['PersonalityChanges'])\n",
    "    print('귀무가설, 종속 변수에 영향을 미치지 않음')\n",
    "else:\n",
    "    print('회귀 계수 : ',model.params['PersonalityChanges'])\n",
    "    print('p-value : ',model.pvalues['PersonalityChanges'])\n",
    "    print('대립가설, 종속 변수에 영향을 미침')"
   ]
  },
  {
   "cell_type": "markdown",
   "id": "9dab94c7-afe9-4de1-bbe3-68e4d91b0570",
   "metadata": {},
   "source": [
    "### 작업 완료 어려움"
   ]
  },
  {
   "cell_type": "code",
   "execution_count": 117,
   "id": "adbec7f8-caa4-4ac1-aac3-9f6426ea3cc5",
   "metadata": {},
   "outputs": [
    {
     "name": "stdout",
     "output_type": "stream",
     "text": [
      "p-value :  0.7507729249969415\n",
      "귀무가설, 종속 변수에 영향을 미치지 않음\n"
     ]
    }
   ],
   "source": [
    "if model.pvalues['DifficultyCompletingTasks'] >= 0.05:\n",
    "    print('p-value : ',model.pvalues['DifficultyCompletingTasks'])\n",
    "    print('귀무가설, 종속 변수에 영향을 미치지 않음')\n",
    "else:\n",
    "    print('회귀 계수 : ',model.params['DifficultyCompletingTasks'])\n",
    "    print('p-value : ',model.pvalues['DifficultyCompletingTasks'])\n",
    "    print('대립가설, 종속 변수에 영향을 미침')"
   ]
  },
  {
   "cell_type": "markdown",
   "id": "ee05a5c0-28cc-4690-8638-43ce79edf858",
   "metadata": {},
   "source": [
    "### 건망증"
   ]
  },
  {
   "cell_type": "code",
   "execution_count": 118,
   "id": "24f28c23-445e-4171-80b1-9c9e8f14bc90",
   "metadata": {},
   "outputs": [
    {
     "name": "stdout",
     "output_type": "stream",
     "text": [
      "p-value :  0.26296808097953495\n",
      "귀무가설, 종속 변수에 영향을 미치지 않음\n"
     ]
    }
   ],
   "source": [
    "if model.pvalues['Forgetfulness'] >= 0.05:\n",
    "    print('p-value : ',model.pvalues['Forgetfulness'])\n",
    "    print('귀무가설, 종속 변수에 영향을 미치지 않음')\n",
    "else:\n",
    "    print('회귀 계수 : ',model.params['Forgetfulness'])\n",
    "    print('p-value : ',model.pvalues['Forgetfulness'])\n",
    "    print('대립가설, 종속 변수에 영향을 미침')"
   ]
  },
  {
   "cell_type": "markdown",
   "id": "6d5e7ca9-0f97-48b1-a255-e638ab091079",
   "metadata": {
    "jp-MarkdownHeadingCollapsed": true
   },
   "source": [
    "## 2. 인지 및 기능 평가 변수들이 알츠하이머의 유/무에 영향을 미친다.\n",
    "- 방법 : 인지 및 기능 평가 변수들로 알츠하이머의 유/무를 예측하는 로지스틱 회귀 모형을 만들어 각 독립변수들의 p-value를 통해 종속 변수에 영향을 미치는지 확인\n",
    "- 결과 1 : 로지스틱 회귀 모형의 정확성이 0.86로 높은 성능을 보이고, 각 변수들 역시 종속 변수에 영향을 미치다는 것을 p-value를 통해 확인\n",
    "- 결과 2 : 간이 점수 상태 점수,기능 평가, 일상생활활동 점수는 종속변수에 긍정적인 영향을 미치는 것을 확인\n",
    "- 결과 3 : 기억 장애 유무와 행동 문제 유무는 종속변수에 부정적인 영향을 미치는 것을 확인"
   ]
  },
  {
   "cell_type": "code",
   "execution_count": 119,
   "id": "a2775dc6-7ed1-40a5-873d-f789fd0614cd",
   "metadata": {},
   "outputs": [
    {
     "name": "stdout",
     "output_type": "stream",
     "text": [
      "Optimization terminated successfully.\n",
      "         Current function value: 0.394660\n",
      "         Iterations 7\n",
      "              precision    recall  f1-score   support\n",
      "\n",
      "         0.0       0.88      0.90      0.89       416\n",
      "         1.0       0.81      0.78      0.80       229\n",
      "\n",
      "    accuracy                           0.86       645\n",
      "   macro avg       0.85      0.84      0.84       645\n",
      "weighted avg       0.86      0.86      0.86       645\n",
      "\n"
     ]
    }
   ],
   "source": [
    "from statsmodels.formula.api import logit \n",
    "from sklearn.metrics import accuracy_score\n",
    "from sklearn.model_selection import train_test_split\n",
    "df_assessment = df[['MMSE','FunctionalAssessment','MemoryComplaints','BehavioralProblems','ADL','Diagnosis']]\n",
    "train,test = train_test_split(df_assessment,test_size = 0.3, random_state = 23)\n",
    "model = logit('Diagnosis ~ MMSE + FunctionalAssessment + MemoryComplaints + BehavioralProblems + ADL',train).fit()\n",
    "pred = model.predict(test)\n",
    "pred_class = (pred > 0.5).astype(int)\n",
    "print(classification_report(test['Diagnosis'],pred_class))"
   ]
  },
  {
   "cell_type": "markdown",
   "id": "5b61643d-5b4c-4e0c-9a0f-50b6fbaae9d3",
   "metadata": {},
   "source": [
    "### 간이 점수 상태 점수"
   ]
  },
  {
   "cell_type": "code",
   "execution_count": 120,
   "id": "36fc18bc-0145-4304-86eb-fd636264b7a2",
   "metadata": {},
   "outputs": [
    {
     "name": "stdout",
     "output_type": "stream",
     "text": [
      "회귀 계수 :  -3.2199395575701555\n",
      "p-value :  1.015756590254141e-29\n",
      "대립가설, 종속 변수에 영향을 미침\n"
     ]
    }
   ],
   "source": [
    "if model.pvalues['MMSE'] >= 0.05:\n",
    "    print('p-value : ',model.pvalues['MMSE'])\n",
    "    print('귀무가설, 종속 변수에 영향을 미치지 않음')\n",
    "else:\n",
    "    print('회귀 계수 : ',model.params['MMSE'])\n",
    "    print('p-value : ',model.pvalues['MMSE'])\n",
    "    print('대립가설, 종속 변수에 영향을 미침')"
   ]
  },
  {
   "cell_type": "markdown",
   "id": "35c8c65e-5ba8-42f4-8199-0c7dc90bafae",
   "metadata": {},
   "source": [
    "### 기능 평가"
   ]
  },
  {
   "cell_type": "code",
   "execution_count": 121,
   "id": "9c2d00dc-61be-4ab5-8819-2e32ca061cf3",
   "metadata": {},
   "outputs": [
    {
     "name": "stdout",
     "output_type": "stream",
     "text": [
      "회귀 계수 :  -4.041402753123401\n",
      "p-value :  3.1231672277786595e-43\n",
      "대립가설, 종속 변수에 영향을 미침\n"
     ]
    }
   ],
   "source": [
    "\n",
    "if model.pvalues['FunctionalAssessment'] >= 0.05:\n",
    "    print('p-value : ',model.pvalues['FunctionalAssessment'])\n",
    "    print('귀무가설, 종속 변수에 영향을 미치지 않음')\n",
    "else:\n",
    "    print('회귀 계수 : ',model.params['FunctionalAssessment'])\n",
    "    print('p-value : ',model.pvalues['FunctionalAssessment'])\n",
    "    print('대립가설, 종속 변수에 영향을 미침')"
   ]
  },
  {
   "cell_type": "markdown",
   "id": "3d1c1aa4-8a52-4022-830c-a5ce4d7f4b2a",
   "metadata": {},
   "source": [
    "### 기억 장애 유무"
   ]
  },
  {
   "cell_type": "code",
   "execution_count": 122,
   "id": "d0862692-99f7-48af-999b-4487468ff80f",
   "metadata": {},
   "outputs": [
    {
     "name": "stdout",
     "output_type": "stream",
     "text": [
      "회귀 계수 :  2.36007705923585\n",
      "p-value :  4.078091257854514e-36\n",
      "대립가설, 종속 변수에 영향을 미침\n"
     ]
    }
   ],
   "source": [
    "if model.pvalues['MemoryComplaints'] >= 0.05:\n",
    "    print('p-value : ',model.pvalues['MemoryComplaints'])\n",
    "    print('귀무가설, 종속 변수에 영향을 미치지 않음')\n",
    "else:\n",
    "    print('회귀 계수 : ',model.params['MemoryComplaints'])\n",
    "    print('p-value : ',model.pvalues['MemoryComplaints'])\n",
    "    print('대립가설, 종속 변수에 영향을 미침')"
   ]
  },
  {
   "cell_type": "markdown",
   "id": "1eaad992-5abb-49d8-b057-4c9b36d78125",
   "metadata": {},
   "source": [
    "### 행동 문제 유무"
   ]
  },
  {
   "cell_type": "code",
   "execution_count": 123,
   "id": "cae033de-db9b-4299-a081-6b7da7c25f73",
   "metadata": {},
   "outputs": [
    {
     "name": "stdout",
     "output_type": "stream",
     "text": [
      "회귀 계수 :  2.340244326684079\n",
      "p-value :  6.562783796460691e-29\n",
      "대립가설, 종속 변수에 영향을 미침\n"
     ]
    }
   ],
   "source": [
    "if model.pvalues['BehavioralProblems'] >= 0.05:\n",
    "    print('p-value : ',model.pvalues['BehavioralProblems'])\n",
    "    print('귀무가설, 종속 변수에 영향을 미치지 않음')\n",
    "else:\n",
    "    print('회귀 계수 : ',model.params['BehavioralProblems'])\n",
    "    print('p-value : ',model.pvalues['BehavioralProblems'])\n",
    "    print('대립가설, 종속 변수에 영향을 미침')"
   ]
  },
  {
   "cell_type": "markdown",
   "id": "9a94ce2a-993d-4d66-a5bf-65cc626a7ab2",
   "metadata": {},
   "source": [
    "### 일상생활활동 점수"
   ]
  },
  {
   "cell_type": "code",
   "execution_count": 124,
   "id": "fb33f39d-913f-471f-9256-ddbbbe8b58ec",
   "metadata": {},
   "outputs": [
    {
     "name": "stdout",
     "output_type": "stream",
     "text": [
      "회귀 계수 :  -3.801097963889272\n",
      "p-value :  4.561086954718619e-39\n",
      "대립가설, 종속 변수에 영향을 미침\n"
     ]
    }
   ],
   "source": [
    "\n",
    "if model.pvalues['ADL'] >= 0.05:\n",
    "    print('p-value : ',model.pvalues['ADL'])\n",
    "    print('귀무가설, 종속 변수에 영향을 미치지 않음')\n",
    "else:\n",
    "    print('회귀 계수 : ',model.params['ADL'])\n",
    "    print('p-value : ',model.pvalues['ADL'])    \n",
    "    print('대립가설, 종속 변수에 영향을 미침')"
   ]
  },
  {
   "cell_type": "markdown",
   "id": "830a7217-2b21-411f-a13d-4db58a8cd7c7",
   "metadata": {
    "jp-MarkdownHeadingCollapsed": true
   },
   "source": [
    "## 3. 임상 측정 결과 변수들이 알츠하이머의 유/무에 영향을 미친다.\n",
    "- 방법 : 임상 측정 결과 변수들로 알츠하이머의 유/무를 예측하는 로지스틱 회귀 모형을 만들어 각 독립변수들의 p-value를 통해 종속 변수에 영향을 미치는지 확인\n",
    "- 결과 1 : 로지스틱 회귀 모형의 정확성이 0.64로 높은 성능을 보이지 않고, 각 변수들 역시 HDL을 제외하고는 종속 변수에 영향을 미치지 않음을 p-value를 통해 확인\n",
    "- 결과 2 : HDL의 경우, 종속 변수에 긍정적인 영향을 미침(회귀 계수 : 0.45)"
   ]
  },
  {
   "cell_type": "code",
   "execution_count": 125,
   "id": "5b402927-f9ba-4853-b56c-78307bd9df8f",
   "metadata": {},
   "outputs": [
    {
     "name": "stdout",
     "output_type": "stream",
     "text": [
      "Optimization terminated successfully.\n",
      "         Current function value: 0.646139\n",
      "         Iterations 5\n",
      "              precision    recall  f1-score   support\n",
      "\n",
      "         0.0       0.64      1.00      0.78       416\n",
      "         1.0       0.00      0.00      0.00       229\n",
      "\n",
      "    accuracy                           0.64       645\n",
      "   macro avg       0.32      0.50      0.39       645\n",
      "weighted avg       0.42      0.64      0.51       645\n",
      "\n"
     ]
    },
    {
     "name": "stderr",
     "output_type": "stream",
     "text": [
      "/usr/local/lib/python3.11/site-packages/sklearn/metrics/_classification.py:1509: UndefinedMetricWarning: Precision is ill-defined and being set to 0.0 in labels with no predicted samples. Use `zero_division` parameter to control this behavior.\n",
      "  _warn_prf(average, modifier, f\"{metric.capitalize()} is\", len(result))\n",
      "/usr/local/lib/python3.11/site-packages/sklearn/metrics/_classification.py:1509: UndefinedMetricWarning: Precision is ill-defined and being set to 0.0 in labels with no predicted samples. Use `zero_division` parameter to control this behavior.\n",
      "  _warn_prf(average, modifier, f\"{metric.capitalize()} is\", len(result))\n",
      "/usr/local/lib/python3.11/site-packages/sklearn/metrics/_classification.py:1509: UndefinedMetricWarning: Precision is ill-defined and being set to 0.0 in labels with no predicted samples. Use `zero_division` parameter to control this behavior.\n",
      "  _warn_prf(average, modifier, f\"{metric.capitalize()} is\", len(result))\n"
     ]
    }
   ],
   "source": [
    "from statsmodels.formula.api import logit \n",
    "from sklearn.metrics import accuracy_score\n",
    "from sklearn.model_selection import train_test_split\n",
    "df_clinical = df[['SystolicBP','DiastolicBP','CholesterolTotal','CholesterolLDL','CholesterolHDL','CholesterolTriglycerides','BMI','Diagnosis']]\n",
    "train,test = train_test_split(df_clinical,test_size = 0.3, random_state = 23)\n",
    "model = logit('Diagnosis ~ SystolicBP + DiastolicBP + CholesterolTotal + CholesterolLDL + CholesterolHDL + CholesterolTriglycerides + BMI',train).fit()\n",
    "pred = model.predict(test)\n",
    "pred_class = (pred > 0.5).astype(int)\n",
    "print(classification_report(test['Diagnosis'],pred_class))"
   ]
  },
  {
   "cell_type": "markdown",
   "id": "bbf714c5-e3f7-45cb-90ba-fa6f8bd18b0e",
   "metadata": {
    "jp-MarkdownHeadingCollapsed": true
   },
   "source": [
    "### 수축기 혈압"
   ]
  },
  {
   "cell_type": "code",
   "execution_count": 126,
   "id": "5a15f83b-4aa3-450b-bfdc-412db0ff6b7a",
   "metadata": {},
   "outputs": [
    {
     "name": "stdout",
     "output_type": "stream",
     "text": [
      "p-value :  0.39752114802731064\n",
      "귀무가설, 종속 변수에 영향을 미치지 않음\n"
     ]
    }
   ],
   "source": [
    "if model.pvalues['SystolicBP'] >= 0.05:\n",
    "    print('p-value : ',model.pvalues['SystolicBP'])\n",
    "    print('귀무가설, 종속 변수에 영향을 미치지 않음')\n",
    "else:\n",
    "    print('회귀 계수 : ',model.params['SystolicBP'])\n",
    "    print('p-value : ',model.pvalues['SystolicBP'])\n",
    "    print('대립가설, 종속 변수에 영향을 미침')"
   ]
  },
  {
   "cell_type": "markdown",
   "id": "21a3683b-29f3-4667-b811-5edd121aa578",
   "metadata": {
    "jp-MarkdownHeadingCollapsed": true
   },
   "source": [
    "### 이완기 혈압"
   ]
  },
  {
   "cell_type": "code",
   "execution_count": 127,
   "id": "dfe4ad8b-9f2e-4f71-b18a-659d59cb6543",
   "metadata": {},
   "outputs": [
    {
     "name": "stdout",
     "output_type": "stream",
     "text": [
      "p-value :  0.7486254145346884\n",
      "귀무가설, 종속 변수에 영향을 미치지 않음\n"
     ]
    }
   ],
   "source": [
    "if model.pvalues['DiastolicBP'] >= 0.05:\n",
    "    print('p-value : ',model.pvalues['DiastolicBP'])\n",
    "    print('귀무가설, 종속 변수에 영향을 미치지 않음')\n",
    "else:\n",
    "    print('회귀 계수 : ',model.params['DiastolicBP'])\n",
    "    print('p-value : ',model.pvalues['DiastolicBP'])\n",
    "    print('대립가설, 종속 변수에 영향을 미침')"
   ]
  },
  {
   "cell_type": "markdown",
   "id": "94a831ca-3989-4b9d-aecf-21c48604a034",
   "metadata": {
    "jp-MarkdownHeadingCollapsed": true
   },
   "source": [
    "### 콜레스테롤 총량"
   ]
  },
  {
   "cell_type": "code",
   "execution_count": 128,
   "id": "4fadc552-f2ce-4aea-8877-4e1b7ca67533",
   "metadata": {},
   "outputs": [
    {
     "name": "stdout",
     "output_type": "stream",
     "text": [
      "p-value :  0.7551283054649616\n",
      "귀무가설, 종속 변수에 영향을 미치지 않음\n"
     ]
    }
   ],
   "source": [
    "if model.pvalues['CholesterolTotal'] >= 0.05:\n",
    "    print('p-value : ',model.pvalues['CholesterolTotal'])\n",
    "    print('귀무가설, 종속 변수에 영향을 미치지 않음')\n",
    "else:\n",
    "    print('회귀 계수 : ',model.params['CholesterolTotal'])\n",
    "    print('p-value : ',model.pvalues['CholesterolTotal'])\n",
    "    print('대립가설, 종속 변수에 영향을 미침')"
   ]
  },
  {
   "cell_type": "markdown",
   "id": "1a1d4421-935e-408b-a53b-f7640815026c",
   "metadata": {
    "jp-MarkdownHeadingCollapsed": true
   },
   "source": [
    "### 콜레스테롤 LDL"
   ]
  },
  {
   "cell_type": "code",
   "execution_count": 129,
   "id": "167bab11-0147-43c6-96d6-31d6af955a97",
   "metadata": {},
   "outputs": [
    {
     "name": "stdout",
     "output_type": "stream",
     "text": [
      "p-value :  0.23318477886695943\n",
      "귀무가설, 종속 변수에 영향을 미치지 않음\n"
     ]
    }
   ],
   "source": [
    "if model.pvalues['CholesterolLDL'] >= 0.05:\n",
    "    print('p-value : ',model.pvalues['CholesterolLDL'])\n",
    "    print('귀무가설, 종속 변수에 영향을 미치지 않음')\n",
    "else:\n",
    "    print('회귀 계수 : ',model.params['CholesterolLDL'])\n",
    "    print('p-value : ',model.pvalues['CholesterolLDL'])\n",
    "    print('대립가설, 종속 변수에 영향을 미침')"
   ]
  },
  {
   "cell_type": "markdown",
   "id": "879da373-fcbb-40ee-8a36-c6c8e2957422",
   "metadata": {},
   "source": [
    "### 콜레스테롤 HDL"
   ]
  },
  {
   "cell_type": "code",
   "execution_count": 130,
   "id": "0f29eb78-bb3e-4575-b1ed-9a0cc343c788",
   "metadata": {},
   "outputs": [
    {
     "name": "stdout",
     "output_type": "stream",
     "text": [
      "회귀 계수 :  0.45320468793932145\n",
      "p-value :  0.01613822890661023\n",
      "대립가설, 종속 변수에 영향을 미침\n"
     ]
    }
   ],
   "source": [
    "if model.pvalues['CholesterolHDL'] >= 0.05:\n",
    "    print('p-value : ',model.pvalues['CholesterolHDL'])\n",
    "    print('귀무가설, 종속 변수에 영향을 미치지 않음')\n",
    "else:\n",
    "    print('회귀 계수 : ',model.params['CholesterolHDL'])\n",
    "    print('p-value : ',model.pvalues['CholesterolHDL'])\n",
    "    print('대립가설, 종속 변수에 영향을 미침')"
   ]
  },
  {
   "cell_type": "markdown",
   "id": "0baf5f71-8ce4-4579-b830-e43b5cbc7d95",
   "metadata": {
    "jp-MarkdownHeadingCollapsed": true
   },
   "source": [
    "### 중성 지방"
   ]
  },
  {
   "cell_type": "code",
   "execution_count": 131,
   "id": "678a9d20-c1d3-4ef7-8b87-3401fbe5a82e",
   "metadata": {},
   "outputs": [
    {
     "name": "stdout",
     "output_type": "stream",
     "text": [
      "p-value :  0.8666096626347534\n",
      "귀무가설, 종속 변수에 영향을 미치지 않음\n"
     ]
    }
   ],
   "source": [
    "if model.pvalues['CholesterolTriglycerides'] >= 0.05:\n",
    "    print('p-value : ',model.pvalues['CholesterolTriglycerides'])\n",
    "    print('귀무가설, 종속 변수에 영향을 미치지 않음')\n",
    "else:\n",
    "    print('회귀 계수 : ',model.params['CholesterolTriglycerides'])\n",
    "    print('p-value : ',model.pvalues['CholesterolTriglycerides'])\n",
    "    print('대립가설, 종속 변수에 영향을 미침')"
   ]
  },
  {
   "cell_type": "markdown",
   "id": "e441f014-cf12-40be-b538-8eb3e6fe0e8e",
   "metadata": {
    "jp-MarkdownHeadingCollapsed": true
   },
   "source": [
    "### BMI"
   ]
  },
  {
   "cell_type": "code",
   "execution_count": 132,
   "id": "e44c68ac-cf09-4d4f-9915-976a0a64f318",
   "metadata": {},
   "outputs": [
    {
     "name": "stdout",
     "output_type": "stream",
     "text": [
      "p-value :  0.34538593240432947\n",
      "귀무가설, 종속 변수에 영향을 미치지 않음\n"
     ]
    }
   ],
   "source": [
    "if model.pvalues['BMI'] >= 0.05:\n",
    "    print('p-value : ',model.pvalues['BMI'])\n",
    "    print('귀무가설, 종속 변수에 영향을 미치지 않음')\n",
    "else:\n",
    "    print('회귀 계수 : ',model.params['BMI'])\n",
    "    print('p-value : ',model.pvalues['BMI'])\n",
    "    print('대립가설, 종속 변수에 영향을 미침')"
   ]
  },
  {
   "cell_type": "markdown",
   "id": "4f7dfe7e-76f8-4093-ac0b-aa9c73e4a813",
   "metadata": {
    "jp-MarkdownHeadingCollapsed": true
   },
   "source": [
    "## 4. 병력 변수들이 알츠하이머의 유/무에 영향을 미친다.\n",
    "- 방법 : 임상 측정 결과 변수들로 알츠하이머의 유/무를 예측하는 로지스틱 회귀 모형을 만들어 각 독립변수들의 p-value를 통해 종속 변수에 영향을 미치는지 확인\n",
    "- 결과 1 : 로지스틱 회귀 모형의 정확성이 0.64로 높은 성능을 보이지 않고, 각 변수들 역시 심혈관 질환과 당뇨병을 제외하고는 종속 변수에 영향을 미치지 않음을 p-value를 통해 확인\n",
    "- 결과 2 : 심혈관질환의 경우 경우, 종속 변수에 긍정적인 영향을 미침(회귀 계수 : 0.30)\n",
    "- 결과 3 : 당뇨병의 경우, 종속 변수에 부정적인 영향을 미침(회귀 계수 : -0.35)"
   ]
  },
  {
   "cell_type": "code",
   "execution_count": 151,
   "id": "aabb92fd-726d-409a-8cbd-042c2f20c34b",
   "metadata": {},
   "outputs": [
    {
     "name": "stdout",
     "output_type": "stream",
     "text": [
      "Optimization terminated successfully.\n",
      "         Current function value: 0.644727\n",
      "         Iterations 5\n",
      "              precision    recall  f1-score   support\n",
      "\n",
      "         0.0       0.64      1.00      0.78       416\n",
      "         1.0       0.00      0.00      0.00       229\n",
      "\n",
      "    accuracy                           0.64       645\n",
      "   macro avg       0.32      0.50      0.39       645\n",
      "weighted avg       0.42      0.64      0.51       645\n",
      "\n"
     ]
    },
    {
     "name": "stderr",
     "output_type": "stream",
     "text": [
      "/usr/local/lib/python3.11/site-packages/sklearn/metrics/_classification.py:1509: UndefinedMetricWarning: Precision is ill-defined and being set to 0.0 in labels with no predicted samples. Use `zero_division` parameter to control this behavior.\n",
      "  _warn_prf(average, modifier, f\"{metric.capitalize()} is\", len(result))\n",
      "/usr/local/lib/python3.11/site-packages/sklearn/metrics/_classification.py:1509: UndefinedMetricWarning: Precision is ill-defined and being set to 0.0 in labels with no predicted samples. Use `zero_division` parameter to control this behavior.\n",
      "  _warn_prf(average, modifier, f\"{metric.capitalize()} is\", len(result))\n",
      "/usr/local/lib/python3.11/site-packages/sklearn/metrics/_classification.py:1509: UndefinedMetricWarning: Precision is ill-defined and being set to 0.0 in labels with no predicted samples. Use `zero_division` parameter to control this behavior.\n",
      "  _warn_prf(average, modifier, f\"{metric.capitalize()} is\", len(result))\n"
     ]
    }
   ],
   "source": [
    "from statsmodels.formula.api import logit \n",
    "from sklearn.metrics import accuracy_score\n",
    "from sklearn.model_selection import train_test_split\n",
    "df_history = df[['FamilyHistoryAlzheimers','CardiovascularDisease','Diabetes','Depression','HeadInjury','Hypertension','Diagnosis']]\n",
    "train,test = train_test_split(df_history,test_size = 0.3, random_state = 23)\n",
    "model = logit('Diagnosis ~ FamilyHistoryAlzheimers + CardiovascularDisease + Diabetes + Depression + HeadInjury + Hypertension',train).fit()\n",
    "pred = model.predict(test)\n",
    "pred_class = (pred > 0.5).astype(int)\n",
    "print(classification_report(test['Diagnosis'],pred_class))"
   ]
  },
  {
   "cell_type": "markdown",
   "id": "f421f3aa-32c5-4d3b-af04-5799f03b3cec",
   "metadata": {
    "jp-MarkdownHeadingCollapsed": true
   },
   "source": [
    "### 알츠하이머 가족력"
   ]
  },
  {
   "cell_type": "code",
   "execution_count": 134,
   "id": "6e1d04c7-9fa0-451a-a90f-2981c826ed01",
   "metadata": {},
   "outputs": [
    {
     "name": "stdout",
     "output_type": "stream",
     "text": [
      "p-value :  0.1355331419321811\n",
      "귀무가설, 종속 변수에 영향을 미치지 않음\n"
     ]
    }
   ],
   "source": [
    "if model.pvalues['FamilyHistoryAlzheimers'] >= 0.05:\n",
    "    print('p-value : ',model.pvalues['FamilyHistoryAlzheimers'])\n",
    "    print('귀무가설, 종속 변수에 영향을 미치지 않음')\n",
    "else:\n",
    "    print('회귀 계수 : ',model.params['FamilyHistoryAlzheimers'])\n",
    "    print('p-value : ',model.pvalues['FamilyHistoryAlzheimers'])\n",
    "    print('대립가설, 종속 변수에 영향을 미침')"
   ]
  },
  {
   "cell_type": "markdown",
   "id": "fb0a038c-9db7-4554-8bf1-9ce692b15b23",
   "metadata": {
    "jp-MarkdownHeadingCollapsed": true
   },
   "source": [
    "### 심혈관 질환"
   ]
  },
  {
   "cell_type": "code",
   "execution_count": 152,
   "id": "20226ba7-599b-4ada-b0c8-19e1c4c1a22a",
   "metadata": {},
   "outputs": [
    {
     "name": "stdout",
     "output_type": "stream",
     "text": [
      "회귀 계수 :  0.29655102412901785\n",
      "p-value :  0.047120228004136004\n",
      "대립가설, 종속 변수에 영향을 미침\n"
     ]
    }
   ],
   "source": [
    "if model.pvalues['CardiovascularDisease'] >= 0.05:\n",
    "    print('p-value : ',model.pvalues['CardiovascularDisease'])\n",
    "    print('귀무가설, 종속 변수에 영향을 미치지 않음')\n",
    "else:\n",
    "    print('회귀 계수 : ',model.params['CardiovascularDisease'])\n",
    "    print('p-value : ',model.pvalues['CardiovascularDisease'])\n",
    "    print('대립가설, 종속 변수에 영향을 미침')"
   ]
  },
  {
   "cell_type": "markdown",
   "id": "e8a12733-03bf-4f68-9c3a-60bf0f270967",
   "metadata": {
    "jp-MarkdownHeadingCollapsed": true
   },
   "source": [
    "### 당뇨병"
   ]
  },
  {
   "cell_type": "code",
   "execution_count": 153,
   "id": "f2698ec0-61b5-451b-bff8-afc5ba44b883",
   "metadata": {},
   "outputs": [
    {
     "name": "stdout",
     "output_type": "stream",
     "text": [
      "회귀 계수 :  -0.34606135111479297\n",
      "p-value :  0.03164161784077769\n",
      "대립가설, 종속 변수에 영향을 미침\n"
     ]
    }
   ],
   "source": [
    "if model.pvalues['Diabetes'] >= 0.05:\n",
    "    print('p-value : ',model.pvalues['Diabetes'])\n",
    "    print('귀무가설, 종속 변수에 영향을 미치지 않음')\n",
    "else:\n",
    "    print('회귀 계수 : ',model.params['Diabetes'])\n",
    "    print('p-value : ',model.pvalues['Diabetes'])\n",
    "    print('대립가설, 종속 변수에 영향을 미침')"
   ]
  },
  {
   "cell_type": "markdown",
   "id": "5d75a011-ce5e-420c-81ab-ca33a03fa367",
   "metadata": {
    "jp-MarkdownHeadingCollapsed": true
   },
   "source": [
    "### 우울증"
   ]
  },
  {
   "cell_type": "code",
   "execution_count": 137,
   "id": "322c68ad-5f2f-4314-889f-c4bb3d3b104c",
   "metadata": {},
   "outputs": [
    {
     "name": "stdout",
     "output_type": "stream",
     "text": [
      "p-value :  0.5541258134913704\n",
      "귀무가설, 종속 변수에 영향을 미치지 않음\n"
     ]
    }
   ],
   "source": [
    "if model.pvalues['Depression'] >= 0.05:\n",
    "    print('p-value : ',model.pvalues['Depression'])\n",
    "    print('귀무가설, 종속 변수에 영향을 미치지 않음')\n",
    "else:\n",
    "    print('회귀 계수 : ',model.params['Depression'])\n",
    "    print('p-value : ',model.pvalues['Depression'])\n",
    "    print('대립가설, 종속 변수에 영향을 미침')"
   ]
  },
  {
   "cell_type": "markdown",
   "id": "e6d7d285-19e4-473a-82ab-e20c73c0e42f",
   "metadata": {
    "jp-MarkdownHeadingCollapsed": true
   },
   "source": [
    "### 두부 손상"
   ]
  },
  {
   "cell_type": "code",
   "execution_count": 138,
   "id": "4700cbe0-868e-4fad-b098-7e0c76cab448",
   "metadata": {},
   "outputs": [
    {
     "name": "stdout",
     "output_type": "stream",
     "text": [
      "p-value :  0.18204318710895218\n",
      "귀무가설, 종속 변수에 영향을 미치지 않음\n"
     ]
    }
   ],
   "source": [
    "if model.pvalues['HeadInjury'] >= 0.05:\n",
    "    print('p-value : ',model.pvalues['HeadInjury'])\n",
    "    print('귀무가설, 종속 변수에 영향을 미치지 않음')\n",
    "else:\n",
    "    print('회귀 계수 : ',model.params['HeadInjury'])\n",
    "    print('p-value : ',model.pvalues['HeadInjury'])\n",
    "    print('대립가설, 종속 변수에 영향을 미침')"
   ]
  },
  {
   "cell_type": "markdown",
   "id": "efe4bce5-3437-41a0-ae09-35aeafc10405",
   "metadata": {
    "jp-MarkdownHeadingCollapsed": true
   },
   "source": [
    "### 고혈압"
   ]
  },
  {
   "cell_type": "code",
   "execution_count": 139,
   "id": "63f0a013-0951-4a03-8dc4-3da5f5fd3cb2",
   "metadata": {},
   "outputs": [
    {
     "name": "stdout",
     "output_type": "stream",
     "text": [
      "p-value :  0.29027525901044904\n",
      "귀무가설, 종속 변수에 영향을 미치지 않음\n"
     ]
    }
   ],
   "source": [
    "if model.pvalues['Hypertension'] >= 0.05:\n",
    "    print('p-value : ',model.pvalues['Hypertension'])\n",
    "    print('귀무가설, 종속 변수에 영향을 미치지 않음')\n",
    "else:\n",
    "    print('회귀 계수 : ',model.params['Hypertension'])\n",
    "    print('p-value : ',model.pvalues['Hypertension'])\n",
    "    print('대립가설, 종속 변수에 영향을 미침')"
   ]
  },
  {
   "cell_type": "markdown",
   "id": "92c877b8-19c6-4bde-9c0d-09d83369a1d9",
   "metadata": {
    "jp-MarkdownHeadingCollapsed": true
   },
   "source": [
    "## 5. 일상생활 변수들이 알츠하이머의 유/무에 영향을 미친다.\n",
    "- 방법 : 일상생활 변수들로 알츠하이머의 유/무를 예측하는 로지스틱 회귀 모형을 만들어 각 독립변수들의 p-value를 통해 종속 변수에 영향을 미치는지 확인\n",
    "- 결과 1 : 로지스틱 회귀 모형의 정확성이 0.64로 높은 성능을 보이지 않고, 각 변수들 역시 수면의 질을 제외하고는 종속 변수에 영향을 미치지 않음을 p-value를 통해 확인\n",
    "- 결과 2 : 수면의 질의 경우, 종속 변수여 부정적인 영향을 미침(회귀 계수 : -0.38)"
   ]
  },
  {
   "cell_type": "code",
   "execution_count": 140,
   "id": "8f19f507-97cb-4469-8339-215390b8ba94",
   "metadata": {},
   "outputs": [
    {
     "name": "stdout",
     "output_type": "stream",
     "text": [
      "Optimization terminated successfully.\n",
      "         Current function value: 0.647616\n",
      "         Iterations 4\n",
      "              precision    recall  f1-score   support\n",
      "\n",
      "         0.0       0.64      1.00      0.78       416\n",
      "         1.0       0.00      0.00      0.00       229\n",
      "\n",
      "    accuracy                           0.64       645\n",
      "   macro avg       0.32      0.50      0.39       645\n",
      "weighted avg       0.42      0.64      0.51       645\n",
      "\n"
     ]
    },
    {
     "name": "stderr",
     "output_type": "stream",
     "text": [
      "/usr/local/lib/python3.11/site-packages/sklearn/metrics/_classification.py:1509: UndefinedMetricWarning: Precision is ill-defined and being set to 0.0 in labels with no predicted samples. Use `zero_division` parameter to control this behavior.\n",
      "  _warn_prf(average, modifier, f\"{metric.capitalize()} is\", len(result))\n",
      "/usr/local/lib/python3.11/site-packages/sklearn/metrics/_classification.py:1509: UndefinedMetricWarning: Precision is ill-defined and being set to 0.0 in labels with no predicted samples. Use `zero_division` parameter to control this behavior.\n",
      "  _warn_prf(average, modifier, f\"{metric.capitalize()} is\", len(result))\n",
      "/usr/local/lib/python3.11/site-packages/sklearn/metrics/_classification.py:1509: UndefinedMetricWarning: Precision is ill-defined and being set to 0.0 in labels with no predicted samples. Use `zero_division` parameter to control this behavior.\n",
      "  _warn_prf(average, modifier, f\"{metric.capitalize()} is\", len(result))\n"
     ]
    }
   ],
   "source": [
    "from statsmodels.formula.api import logit \n",
    "from sklearn.metrics import accuracy_score\n",
    "from sklearn.model_selection import train_test_split\n",
    "df_lifestyle = df[['Smoking','AlcoholConsumption','PhysicalActivity','DietQuality','SleepQuality','Diagnosis']]\n",
    "train,test = train_test_split(df_lifestyle,test_size = 0.3, random_state = 23)\n",
    "model = logit('Diagnosis ~ Smoking + AlcoholConsumption + PhysicalActivity + DietQuality + SleepQuality',train).fit()\n",
    "pred = model.predict(test)\n",
    "pred_class = (pred > 0.5).astype(int)\n",
    "print(classification_report(test['Diagnosis'],pred_class))"
   ]
  },
  {
   "cell_type": "markdown",
   "id": "fcd8ed5a-2cd6-4fc5-9853-3b6907bb03f9",
   "metadata": {
    "jp-MarkdownHeadingCollapsed": true
   },
   "source": [
    "### 흡연 유/무"
   ]
  },
  {
   "cell_type": "code",
   "execution_count": 141,
   "id": "193122f4-f03c-43aa-a87f-fca1f3f1ba47",
   "metadata": {},
   "outputs": [
    {
     "name": "stdout",
     "output_type": "stream",
     "text": [
      "p-value :  0.6393586879619717\n",
      "귀무가설, 종속 변수에 영향을 미치지 않음\n"
     ]
    }
   ],
   "source": [
    "if model.pvalues['Smoking'] >= 0.05:\n",
    "    print('p-value : ',model.pvalues['Smoking'])\n",
    "    print('귀무가설, 종속 변수에 영향을 미치지 않음')\n",
    "else:\n",
    "    print('회귀 계수 : ',model.params['Smoking'])\n",
    "    print('p-value : ',model.pvalues['Smoking'])\n",
    "    print('대립가설, 종속 변수에 영향을 미침')"
   ]
  },
  {
   "cell_type": "markdown",
   "id": "87e2f677-a98a-4805-b1c8-8b0bf74dbe13",
   "metadata": {
    "jp-MarkdownHeadingCollapsed": true
   },
   "source": [
    "### 알코올 소비량"
   ]
  },
  {
   "cell_type": "code",
   "execution_count": 142,
   "id": "9fce212e-c3ab-4231-8ae7-0b95f4dce452",
   "metadata": {},
   "outputs": [
    {
     "name": "stdout",
     "output_type": "stream",
     "text": [
      "p-value :  0.8262207964164993\n",
      "귀무가설, 종속 변수에 영향을 미치지 않음\n"
     ]
    }
   ],
   "source": [
    "if model.pvalues['AlcoholConsumption'] >= 0.05:\n",
    "    print('p-value : ',model.pvalues['AlcoholConsumption'])\n",
    "    print('귀무가설, 종속 변수에 영향을 미치지 않음')\n",
    "else:\n",
    "    print('회귀 계수 : ',model.params['AlcoholConsumption'])\n",
    "    print('p-value : ',model.pvalues['AlcoholConsumption'])\n",
    "    print('대립가설, 종속 변수에 영향을 미침')"
   ]
  },
  {
   "cell_type": "markdown",
   "id": "1eae4164-bafa-4ed6-8239-2a0c3700ab55",
   "metadata": {
    "jp-MarkdownHeadingCollapsed": true
   },
   "source": [
    "### 신체 활동"
   ]
  },
  {
   "cell_type": "code",
   "execution_count": 143,
   "id": "c5a43403-94ad-414b-b8fb-7786cc7a8ab1",
   "metadata": {},
   "outputs": [
    {
     "name": "stdout",
     "output_type": "stream",
     "text": [
      "p-value :  0.47831367338710895\n",
      "귀무가설, 종속 변수에 영향을 미치지 않음\n"
     ]
    }
   ],
   "source": [
    "if model.pvalues['PhysicalActivity'] >= 0.05:\n",
    "    print('p-value : ',model.pvalues['PhysicalActivity'])\n",
    "    print('귀무가설, 종속 변수에 영향을 미치지 않음')\n",
    "else:\n",
    "    print('회귀 계수 : ',model.params['PhysicalActivity'])\n",
    "    print('p-value : ',model.pvalues['PhysicalActivity'])\n",
    "    print('대립가설, 종속 변수에 영향을 미침')"
   ]
  },
  {
   "cell_type": "markdown",
   "id": "748784c4-8721-408e-a6bb-b39638729a2b",
   "metadata": {
    "jp-MarkdownHeadingCollapsed": true
   },
   "source": [
    "### 식단의 질"
   ]
  },
  {
   "cell_type": "code",
   "execution_count": 144,
   "id": "eb7b99a8-7cf3-4865-b484-8fd81fb0879a",
   "metadata": {},
   "outputs": [
    {
     "name": "stdout",
     "output_type": "stream",
     "text": [
      "p-value :  0.6681260593766596\n",
      "귀무가설, 종속 변수에 영향을 미치지 않음\n"
     ]
    }
   ],
   "source": [
    "if model.pvalues['DietQuality'] >= 0.05:\n",
    "    print('p-value : ',model.pvalues['DietQuality'])\n",
    "    print('귀무가설, 종속 변수에 영향을 미치지 않음')\n",
    "else:\n",
    "    print('회귀 계수 : ',model.params['DietQuality'])\n",
    "    print('p-value : ',model.pvalues['DietQuality'])\n",
    "    print('대립가설, 종속 변수에 영향을 미침')"
   ]
  },
  {
   "cell_type": "markdown",
   "id": "fbe556d4-ff64-46a5-a8bc-72ab946aaf6f",
   "metadata": {},
   "source": [
    "### 수면의 질"
   ]
  },
  {
   "cell_type": "code",
   "execution_count": 145,
   "id": "087d7a3f-e042-4fff-b6aa-800ba4e36b9f",
   "metadata": {},
   "outputs": [
    {
     "name": "stdout",
     "output_type": "stream",
     "text": [
      "회귀 계수 :  -0.38408533048764065\n",
      "p-value :  0.039334513479360636\n",
      "대립가설, 종속 변수에 영향을 미침\n"
     ]
    }
   ],
   "source": [
    "if model.pvalues['SleepQuality'] >= 0.05:\n",
    "    print('p-value : ',model.pvalues['SleepQuality'])\n",
    "    print('귀무가설, 종속 변수에 영향을 미치지 않음')\n",
    "else:\n",
    "    print('회귀 계수 : ',model.params['SleepQuality'])\n",
    "    print('p-value : ',model.pvalues['SleepQuality'])\n",
    "    print('대립가설, 종속 변수에 영향을 미침')"
   ]
  },
  {
   "cell_type": "markdown",
   "id": "64d20135-8b0f-4329-9749-69f495905b39",
   "metadata": {
    "jp-MarkdownHeadingCollapsed": true
   },
   "source": [
    "## 6. 인적정보 변수들이 알츠하이머의 유/무에 영향을 미친다.\n",
    "- 방법 : 인적정보 변수들로 알츠하이머의 유/무를 예측하는 로지스틱 회귀 모형을 만들어 각 독립변수들의 p-value를 통해 종속 변수에 영향을 미치는지 확인\n",
    "- 결과 : 로지스틱 회귀 모형의 정확성이 0.64로 높은 성능을 보이지 않고, 각 변수들 역시 종속 변수에 영향을 미치지 않음을 p-value를 통해 확인\n"
   ]
  },
  {
   "cell_type": "code",
   "execution_count": 146,
   "id": "3f584e56-b77a-4c73-a16f-91daf5f3dd83",
   "metadata": {},
   "outputs": [
    {
     "name": "stdout",
     "output_type": "stream",
     "text": [
      "Optimization terminated successfully.\n",
      "         Current function value: 0.648526\n",
      "         Iterations 4\n",
      "0.6449612403100775\n",
      "              precision    recall  f1-score   support\n",
      "\n",
      "         0.0       0.64      1.00      0.78       416\n",
      "         1.0       0.00      0.00      0.00       229\n",
      "\n",
      "    accuracy                           0.64       645\n",
      "   macro avg       0.32      0.50      0.39       645\n",
      "weighted avg       0.42      0.64      0.51       645\n",
      "\n"
     ]
    },
    {
     "name": "stderr",
     "output_type": "stream",
     "text": [
      "/usr/local/lib/python3.11/site-packages/sklearn/metrics/_classification.py:1509: UndefinedMetricWarning: Precision is ill-defined and being set to 0.0 in labels with no predicted samples. Use `zero_division` parameter to control this behavior.\n",
      "  _warn_prf(average, modifier, f\"{metric.capitalize()} is\", len(result))\n",
      "/usr/local/lib/python3.11/site-packages/sklearn/metrics/_classification.py:1509: UndefinedMetricWarning: Precision is ill-defined and being set to 0.0 in labels with no predicted samples. Use `zero_division` parameter to control this behavior.\n",
      "  _warn_prf(average, modifier, f\"{metric.capitalize()} is\", len(result))\n",
      "/usr/local/lib/python3.11/site-packages/sklearn/metrics/_classification.py:1509: UndefinedMetricWarning: Precision is ill-defined and being set to 0.0 in labels with no predicted samples. Use `zero_division` parameter to control this behavior.\n",
      "  _warn_prf(average, modifier, f\"{metric.capitalize()} is\", len(result))\n"
     ]
    }
   ],
   "source": [
    "from statsmodels.formula.api import logit \n",
    "from sklearn.metrics import accuracy_score\n",
    "from sklearn.model_selection import train_test_split\n",
    "df_lifestyle = df[['Age','Gender','Ethnicity','EducationLevel','Diagnosis']]\n",
    "train,test = train_test_split(df_lifestyle,test_size = 0.3, random_state = 23)\n",
    "model = logit('Diagnosis ~ Age + Gender + Ethnicity + EducationLevel',train).fit()\n",
    "pred = model.predict(test)\n",
    "pred_class = (pred > 0.5).astype(int)\n",
    "print(accuracy_score(test['Diagnosis'],pred_class))\n",
    "print(classification_report(test['Diagnosis'],pred_class))\n"
   ]
  },
  {
   "cell_type": "markdown",
   "id": "cdd5cf5e-449c-4126-b16a-724be68e3aca",
   "metadata": {},
   "source": [
    "### 나이"
   ]
  },
  {
   "cell_type": "code",
   "execution_count": 147,
   "id": "3fd510e9-d37a-435d-affb-039a8fb64ca8",
   "metadata": {},
   "outputs": [
    {
     "name": "stdout",
     "output_type": "stream",
     "text": [
      "p-value :  0.9941044695660038\n",
      "귀무가설, 종속 변수에 영향을 미치지 않음\n"
     ]
    }
   ],
   "source": [
    "if model.pvalues['Age'] >= 0.05:\n",
    "    print('p-value : ',model.pvalues['Age'])\n",
    "    print('귀무가설, 종속 변수에 영향을 미치지 않음')\n",
    "else:\n",
    "    print('회귀 계수 : ',model.params['Age'])\n",
    "    print('p-value : ',model.pvalues['Age'])\n",
    "    print('대립가설, 종속 변수에 영향을 미침')"
   ]
  },
  {
   "cell_type": "markdown",
   "id": "fd130e3f-0990-4bd4-a56c-289795a17ead",
   "metadata": {},
   "source": [
    "### 성별"
   ]
  },
  {
   "cell_type": "code",
   "execution_count": 148,
   "id": "1ce831d4-d415-41fd-8cc9-01e8ae08a5bd",
   "metadata": {},
   "outputs": [
    {
     "name": "stdout",
     "output_type": "stream",
     "text": [
      "p-value :  0.28041903262942536\n",
      "귀무가설, 종속 변수에 영향을 미치지 않음\n"
     ]
    }
   ],
   "source": [
    "if model.pvalues['Gender'] >= 0.05:\n",
    "    print('p-value : ',model.pvalues['Gender'])\n",
    "    print('귀무가설, 종속 변수에 영향을 미치지 않음')\n",
    "else:\n",
    "    print('회귀 계수 : ',model.params['Gender'])\n",
    "    print('p-value : ',model.pvalues['Gender'])\n",
    "    print('대립가설, 종속 변수에 영향을 미침')"
   ]
  },
  {
   "cell_type": "markdown",
   "id": "673362aa-a948-45b8-843c-353b6907f37f",
   "metadata": {},
   "source": [
    "### 인종"
   ]
  },
  {
   "cell_type": "code",
   "execution_count": 149,
   "id": "2913ee5f-fa10-4967-99c3-194bad00ccb9",
   "metadata": {},
   "outputs": [
    {
     "name": "stdout",
     "output_type": "stream",
     "text": [
      "p-value :  0.3986516686259841\n",
      "귀무가설, 종속 변수에 영향을 미치지 않음\n"
     ]
    }
   ],
   "source": [
    "if model.pvalues['Ethnicity'] >= 0.05:\n",
    "    print('p-value : ',model.pvalues['Ethnicity'])\n",
    "    print('귀무가설, 종속 변수에 영향을 미치지 않음')\n",
    "else:\n",
    "    print('회귀 계수 : ',model.params['Ethnicity'])\n",
    "    print('p-value : ',model.pvalues['Ethnicity'])\n",
    "    print('대립가설, 종속 변수에 영향을 미침')"
   ]
  },
  {
   "cell_type": "markdown",
   "id": "d3744cac-8ed5-402e-a0b1-8638d685e441",
   "metadata": {},
   "source": [
    "### 교육 수준"
   ]
  },
  {
   "cell_type": "code",
   "execution_count": 150,
   "id": "31d2a4f5-4359-4e7f-a5e9-d3a33e2b3bf2",
   "metadata": {},
   "outputs": [
    {
     "name": "stdout",
     "output_type": "stream",
     "text": [
      "p-value :  0.48610066829304943\n",
      "귀무가설, 종속 변수에 영향을 미치지 않음\n"
     ]
    }
   ],
   "source": [
    "if model.pvalues['EducationLevel'] >= 0.05:\n",
    "    print('p-value : ',model.pvalues['EducationLevel'])\n",
    "    print('귀무가설, 종속 변수에 영향을 미치지 않음')\n",
    "else:\n",
    "    print('회귀 계수 : ',model.params['EducationLevel'])\n",
    "    print('p-value : ',model.pvalues['EducationLevel'])\n",
    "    print('대립가설, 종속 변수에 영향을 미침')"
   ]
  },
  {
   "cell_type": "markdown",
   "id": "356b5128-40e1-4505-8540-26e80701ee8f",
   "metadata": {},
   "source": [
    "# 결론 \n",
    "- ## 각 독립 변수 그룹들을 사용하여 만든 로지스티 회귀 모델의 성능 지표를 확인한 결과, 인지 및 기능 평가 변수 그룹을 제외한 변수 그룹들을 사용한 모델들은 모든 데이터를 0으로 분류함\n",
    "- ## 데이터 불균형으로 인해 이러한 결과가 나온 것으로 판단이 되고, 이를 개선하고 다시 가설 검정을 실행"
   ]
  },
  {
   "cell_type": "code",
   "execution_count": null,
   "id": "e1f8eeaa-bd69-4529-a78b-ba052dbf7c77",
   "metadata": {},
   "outputs": [],
   "source": []
  }
 ],
 "metadata": {
  "kernelspec": {
   "display_name": "Python 3 (ipykernel)",
   "language": "python",
   "name": "python3"
  },
  "language_info": {
   "codemirror_mode": {
    "name": "ipython",
    "version": 3
   },
   "file_extension": ".py",
   "mimetype": "text/x-python",
   "name": "python",
   "nbconvert_exporter": "python",
   "pygments_lexer": "ipython3",
   "version": "3.11.9"
  }
 },
 "nbformat": 4,
 "nbformat_minor": 5
}
